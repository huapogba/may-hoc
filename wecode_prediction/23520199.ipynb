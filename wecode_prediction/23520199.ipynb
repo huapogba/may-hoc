{
 "cells": [
  {
   "cell_type": "markdown",
   "id": "1fe85115",
   "metadata": {},
   "source": [
    "<h1 style=\"text-align: center;\"> FINAL PROJECT </h1>\n",
    "<h2 style=\"text-align: center;\"> Dự đoán điểm IT001 từ dữ liệu làm bài trên WECODE </h2>"
   ]
  },
  {
   "cell_type": "markdown",
   "id": "0bda1c31",
   "metadata": {},
   "source": [
    "---"
   ]
  },
  {
   "cell_type": "markdown",
   "id": "78dfa27b",
   "metadata": {},
   "source": [
    "#### Lớp: CS114.P21"
   ]
  },
  {
   "cell_type": "markdown",
   "id": "dda6ff21",
   "metadata": {},
   "source": [
    "#### Thành viên nhóm"
   ]
  },
  {
   "cell_type": "markdown",
   "id": "f2490591",
   "metadata": {},
   "source": [
    "1. Nguyễn Chí Cường - 23520199\n",
    "2. Hứa Mạnh Tân - 23521396\n",
    "3. Nguyễn Tấn Tài - 23521376"
   ]
  },
  {
   "cell_type": "markdown",
   "id": "00f73200",
   "metadata": {},
   "source": [
    "#### MỤC LỤC"
   ]
  },
  {
   "cell_type": "markdown",
   "id": "ca1159d1",
   "metadata": {},
   "source": [
    "---"
   ]
  },
  {
   "cell_type": "markdown",
   "id": "f791591c",
   "metadata": {},
   "source": [
    "## 1. Chuẩn bị và sơ lược về bộ dữ liệu"
   ]
  },
  {
   "cell_type": "markdown",
   "id": "28ff4ee8",
   "metadata": {},
   "source": [
    "### 1.1. Import thư viện cần thiết"
   ]
  },
  {
   "cell_type": "code",
   "execution_count": 12,
   "id": "3cf054de",
   "metadata": {},
   "outputs": [],
   "source": [
    "import numpy as np\n",
    "import pandas as pd\n",
    "import matplotlib.pyplot as plt"
   ]
  },
  {
   "cell_type": "markdown",
   "id": "a7f5f83b",
   "metadata": {},
   "source": [
    "### 1.2. Load bộ dữ liệu"
   ]
  },
  {
   "cell_type": "code",
   "execution_count": 13,
   "id": "f5c00b2e",
   "metadata": {},
   "outputs": [],
   "source": [
    "# Đường dẫn đến các tập dữ liệu\n",
    "WECODE_DATASET = \"../dataset/wecode/annonimized.csv\"\n",
    "QT_DATASET = \"../dataset/wecode/qt-public.csv\"\n",
    "TH_DATASET = \"../dataset/wecode/th-public.csv\"\n",
    "CK_DATASET = \"../dataset/wecode/ck-public.csv\""
   ]
  },
  {
   "cell_type": "code",
   "execution_count": 14,
   "id": "5d6570e8",
   "metadata": {},
   "outputs": [],
   "source": [
    "wecode_df = pd.read_csv(WECODE_DATASET).rename(\n",
    "    columns={\n",
    "        \"concat('it001',`assignment_id`)\": \"assignment_id\",\n",
    "        \"concat('it001',`problem_id`)\": \"problem_id\",\n",
    "        \"concat('it001', username)\": \"username\",\n",
    "        \"concat('it001',`language_id`)\": \"language_id\",\n",
    "    }\n",
    ")\n",
    "\n",
    "qt_df = pd.read_csv(QT_DATASET).rename(columns={\"hash\": \"username\", \"diemqt\": \"QT\"})\n",
    "th_df = pd.read_csv(TH_DATASET).rename(columns={\"hash\": \"username\"})\n",
    "ck_df = pd.read_csv(CK_DATASET).rename(columns={\"hash\": \"username\"})"
   ]
  },
  {
   "cell_type": "markdown",
   "id": "36d893c0",
   "metadata": {},
   "source": [
    "### 1.3. Thông tin bộ dữ liệu"
   ]
  },
  {
   "cell_type": "code",
   "execution_count": 15,
   "id": "e3a48383",
   "metadata": {},
   "outputs": [
    {
     "name": "stdout",
     "output_type": "stream",
     "text": [
      "<class 'pandas.core.frame.DataFrame'>\n",
      "RangeIndex: 761 entries, 0 to 760\n",
      "Data columns (total 2 columns):\n",
      " #   Column    Non-Null Count  Dtype \n",
      "---  ------    --------------  ----- \n",
      " 0   username  761 non-null    object\n",
      " 1   QT        755 non-null    object\n",
      "dtypes: object(2)\n",
      "memory usage: 12.0+ KB\n"
     ]
    }
   ],
   "source": [
    "qt_df.info()"
   ]
  },
  {
   "cell_type": "code",
   "execution_count": 16,
   "id": "14324f34",
   "metadata": {},
   "outputs": [
    {
     "data": {
      "text/plain": [
       "username    761\n",
       "QT           21\n",
       "dtype: int64"
      ]
     },
     "execution_count": 16,
     "metadata": {},
     "output_type": "execute_result"
    }
   ],
   "source": [
    "qt_df.nunique()"
   ]
  },
  {
   "cell_type": "code",
   "execution_count": 17,
   "id": "728715a3",
   "metadata": {},
   "outputs": [
    {
     "name": "stdout",
     "output_type": "stream",
     "text": [
      "<class 'pandas.core.frame.DataFrame'>\n",
      "RangeIndex: 761 entries, 0 to 760\n",
      "Data columns (total 2 columns):\n",
      " #   Column    Non-Null Count  Dtype \n",
      "---  ------    --------------  ----- \n",
      " 0   username  761 non-null    object\n",
      " 1   TH        755 non-null    object\n",
      "dtypes: object(2)\n",
      "memory usage: 12.0+ KB\n"
     ]
    }
   ],
   "source": [
    "th_df.info()"
   ]
  },
  {
   "cell_type": "code",
   "execution_count": 18,
   "id": "5d28961a",
   "metadata": {},
   "outputs": [
    {
     "data": {
      "text/plain": [
       "username    761\n",
       "TH           21\n",
       "dtype: int64"
      ]
     },
     "execution_count": 18,
     "metadata": {},
     "output_type": "execute_result"
    }
   ],
   "source": [
    "th_df.nunique()"
   ]
  },
  {
   "cell_type": "code",
   "execution_count": 19,
   "id": "ea075fa4",
   "metadata": {},
   "outputs": [
    {
     "name": "stdout",
     "output_type": "stream",
     "text": [
      "<class 'pandas.core.frame.DataFrame'>\n",
      "RangeIndex: 761 entries, 0 to 760\n",
      "Data columns (total 2 columns):\n",
      " #   Column    Non-Null Count  Dtype  \n",
      "---  ------    --------------  -----  \n",
      " 0   username  761 non-null    object \n",
      " 1   CK        755 non-null    float64\n",
      "dtypes: float64(1), object(1)\n",
      "memory usage: 12.0+ KB\n"
     ]
    }
   ],
   "source": [
    "ck_df.info()"
   ]
  },
  {
   "cell_type": "code",
   "execution_count": 20,
   "id": "0a0415bf",
   "metadata": {},
   "outputs": [
    {
     "data": {
      "text/plain": [
       "username    761\n",
       "CK           21\n",
       "dtype: int64"
      ]
     },
     "execution_count": 20,
     "metadata": {},
     "output_type": "execute_result"
    }
   ],
   "source": [
    "ck_df.nunique()"
   ]
  },
  {
   "cell_type": "markdown",
   "id": "614bcaed",
   "metadata": {},
   "source": [
    "Từ thông tin của 3 dataframe điểm trên, ta có thể thấy những thông tin sau:\n",
    "- Cả 3 dataframe đều có 761 `username` non-null và khác nhau\n",
    "- Cả 3 dataframe có cột điểm chỉ có 755/761 giá trị là non-null"
   ]
  },
  {
   "cell_type": "code",
   "execution_count": 7,
   "id": "163d4a83",
   "metadata": {},
   "outputs": [
    {
     "name": "stdout",
     "output_type": "stream",
     "text": [
      "Number of similar usernames between qt_df and th_df: 761\n",
      "Number of similar usernames between qt_df and ck_df: 761\n"
     ]
    }
   ],
   "source": [
    "print(\n",
    "    \"Number of similar usernames between qt_df and th_df: \"\n",
    "    + str(sum(qt_df[\"username\"] == th_df[\"username\"]))\n",
    ")\n",
    "print(\n",
    "    \"Number of similar usernames between qt_df and ck_df: \"\n",
    "    + str(sum(qt_df[\"username\"] == ck_df[\"username\"]))\n",
    ")"
   ]
  },
  {
   "cell_type": "markdown",
   "id": "85c61773",
   "metadata": {},
   "source": [
    "Nhận thấy cả 3 dataframe chứa điểm quá trình, thực hành, cuối kì của cùng 761 sinh viên, vậy nên ta có thể hợp nhất cả 3 dataframe được load riêng lẻ thành 1 dataframe duy nhất dể tiện hơn trong việc thao tác."
   ]
  },
  {
   "cell_type": "code",
   "execution_count": 8,
   "id": "0c7d567e",
   "metadata": {},
   "outputs": [],
   "source": [
    "# Hợp nhất điểm từ 3 dataframe thành 1 dataframe score_df duy nhất\n",
    "score_df = pd.merge(\n",
    "    pd.merge(qt_df, th_df, on=\"username\", how=\"inner\"),\n",
    "    ck_df,\n",
    "    on=\"username\",\n",
    "    how=\"inner\",\n",
    ")"
   ]
  },
  {
   "cell_type": "markdown",
   "id": "443486ca",
   "metadata": {},
   "source": [
    "## 2. Phân tích dữ liệu"
   ]
  },
  {
   "cell_type": "markdown",
   "id": "cf8c1fdd",
   "metadata": {},
   "source": [
    "## 3. Tiền xử lí dữ liệu"
   ]
  },
  {
   "cell_type": "markdown",
   "id": "eda6726d",
   "metadata": {},
   "source": [
    "### 3.1. Xử lí dữ liệu khuyết thiếu"
   ]
  },
  {
   "cell_type": "markdown",
   "id": "e995c49f",
   "metadata": {},
   "source": [
    "Bây giờ, ta xem xét những hàng bị bỏ trống (NaN) trong `score_df` để thực hiện lọc hoặc lấp đầy chúng, tránh lỗi trong quá trình thao tác."
   ]
  },
  {
   "cell_type": "code",
   "execution_count": 9,
   "id": "4edf3c0b",
   "metadata": {},
   "outputs": [
    {
     "data": {
      "text/html": [
       "<div>\n",
       "<style scoped>\n",
       "    .dataframe tbody tr th:only-of-type {\n",
       "        vertical-align: middle;\n",
       "    }\n",
       "\n",
       "    .dataframe tbody tr th {\n",
       "        vertical-align: top;\n",
       "    }\n",
       "\n",
       "    .dataframe thead th {\n",
       "        text-align: right;\n",
       "    }\n",
       "</style>\n",
       "<table border=\"1\" class=\"dataframe\">\n",
       "  <thead>\n",
       "    <tr style=\"text-align: right;\">\n",
       "      <th></th>\n",
       "      <th>username</th>\n",
       "      <th>QT</th>\n",
       "      <th>TH</th>\n",
       "      <th>CK</th>\n",
       "    </tr>\n",
       "  </thead>\n",
       "  <tbody>\n",
       "    <tr>\n",
       "      <th>38</th>\n",
       "      <td>06024da8147b5cf6105beb4c403f67cf1ff0aea1</td>\n",
       "      <td>NaN</td>\n",
       "      <td>NaN</td>\n",
       "      <td>NaN</td>\n",
       "    </tr>\n",
       "    <tr>\n",
       "      <th>83</th>\n",
       "      <td>0d815307d5307124d148bbebfb41497230c4bd15</td>\n",
       "      <td>NaN</td>\n",
       "      <td>NaN</td>\n",
       "      <td>NaN</td>\n",
       "    </tr>\n",
       "    <tr>\n",
       "      <th>91</th>\n",
       "      <td>0eb93817d6eb3d5bd3e44dbc75971eea193b924f</td>\n",
       "      <td>NaN</td>\n",
       "      <td>NaN</td>\n",
       "      <td>NaN</td>\n",
       "    </tr>\n",
       "    <tr>\n",
       "      <th>195</th>\n",
       "      <td>209d7c77e7a150b6990a3372f7cb24da0c0e7e07</td>\n",
       "      <td>NaN</td>\n",
       "      <td>NaN</td>\n",
       "      <td>NaN</td>\n",
       "    </tr>\n",
       "    <tr>\n",
       "      <th>210</th>\n",
       "      <td>2383a9a33025aa8759fee9a890f6420df0fc8b47</td>\n",
       "      <td>NaN</td>\n",
       "      <td>NaN</td>\n",
       "      <td>NaN</td>\n",
       "    </tr>\n",
       "    <tr>\n",
       "      <th>244</th>\n",
       "      <td>2855b4b4d03c37c94117e615a25e0e321ec8d77a</td>\n",
       "      <td>NaN</td>\n",
       "      <td>NaN</td>\n",
       "      <td>NaN</td>\n",
       "    </tr>\n",
       "  </tbody>\n",
       "</table>\n",
       "</div>"
      ],
      "text/plain": [
       "                                     username   QT   TH  CK\n",
       "38   06024da8147b5cf6105beb4c403f67cf1ff0aea1  NaN  NaN NaN\n",
       "83   0d815307d5307124d148bbebfb41497230c4bd15  NaN  NaN NaN\n",
       "91   0eb93817d6eb3d5bd3e44dbc75971eea193b924f  NaN  NaN NaN\n",
       "195  209d7c77e7a150b6990a3372f7cb24da0c0e7e07  NaN  NaN NaN\n",
       "210  2383a9a33025aa8759fee9a890f6420df0fc8b47  NaN  NaN NaN\n",
       "244  2855b4b4d03c37c94117e615a25e0e321ec8d77a  NaN  NaN NaN"
      ]
     },
     "execution_count": 9,
     "metadata": {},
     "output_type": "execute_result"
    }
   ],
   "source": [
    "score_df[(score_df[\"QT\"].isna()) | (score_df[\"TH\"].isna()) | (score_df[\"CK\"].isna())]"
   ]
  },
  {
   "cell_type": "markdown",
   "id": "53852ec6",
   "metadata": {},
   "source": [
    "Ta dễ dàng nhận thấy rằng chỉ có 6 `username` có ít nhất 1 trong 3 cột bị bỏ trống (NaN), và thực chất là cả 3 cột đều bị bỏ trống. Vì vậy ta có thể loại những `username` này ra khỏi dataframe `score_df`."
   ]
  },
  {
   "cell_type": "code",
   "execution_count": 10,
   "id": "9c78cec7",
   "metadata": {},
   "outputs": [],
   "source": [
    "# Xử lý lọc dữ liệu không hợp lệ\n",
    "score_df = score_df.dropna()"
   ]
  },
  {
   "cell_type": "markdown",
   "id": "ef4aa4f0",
   "metadata": {},
   "source": [
    "Sau khi loại bỏ NaN thì kết quả dataframe `score_df` thu được:"
   ]
  },
  {
   "cell_type": "code",
   "execution_count": 11,
   "id": "a068b1f5",
   "metadata": {},
   "outputs": [
    {
     "name": "stdout",
     "output_type": "stream",
     "text": [
      "<class 'pandas.core.frame.DataFrame'>\n",
      "Index: 755 entries, 0 to 760\n",
      "Data columns (total 4 columns):\n",
      " #   Column    Non-Null Count  Dtype  \n",
      "---  ------    --------------  -----  \n",
      " 0   username  755 non-null    object \n",
      " 1   QT        755 non-null    object \n",
      " 2   TH        755 non-null    object \n",
      " 3   CK        755 non-null    float64\n",
      "dtypes: float64(1), object(3)\n",
      "memory usage: 29.5+ KB\n"
     ]
    }
   ],
   "source": [
    "score_df.info()"
   ]
  }
 ],
 "metadata": {
  "kernelspec": {
   "display_name": "Python 3",
   "language": "python",
   "name": "python3"
  },
  "language_info": {
   "codemirror_mode": {
    "name": "ipython",
    "version": 3
   },
   "file_extension": ".py",
   "mimetype": "text/x-python",
   "name": "python",
   "nbconvert_exporter": "python",
   "pygments_lexer": "ipython3",
   "version": "3.13.3"
  }
 },
 "nbformat": 4,
 "nbformat_minor": 5
}
