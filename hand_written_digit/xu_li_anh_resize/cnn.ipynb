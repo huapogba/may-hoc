{
 "cells": [
  {
   "cell_type": "code",
   "execution_count": 49,
   "id": "05732260-8e79-4e8b-a5fb-168163ba9e4a",
   "metadata": {},
   "outputs": [],
   "source": [
    "# bài toán nhận diện chữ số viết tay từ ảnh đầu vào có 1 chữ số duy nhất \n",
    "# dataset : gồm từ data các bạn trong lớp thành 1 tập khoảnh 6000 ảnh \n",
    "# Mục tiêu : xây dựng mô hình có thể phân loại chính xác ảnh thành các chứ số từ 0 đến 9 "
   ]
  },
  {
   "cell_type": "code",
   "execution_count": 50,
   "id": "3498f6dd-f72b-445b-bcf7-43648341ba4a",
   "metadata": {},
   "outputs": [],
   "source": [
    "import os\n",
    "import cv2\n",
    "import numpy as np\n",
    "import pandas as pd\n",
    "import torch\n",
    "import torch.nn as nn\n",
    "import torch.nn.functional as F\n",
    "from torch.utils.data import TensorDataset, DataLoader\n",
    "from sklearn.model_selection import train_test_split"
   ]
  },
  {
   "cell_type": "code",
   "execution_count": 66,
   "id": "d89f52e9-6ac2-4116-8438-76decc2c538e",
   "metadata": {},
   "outputs": [],
   "source": [
    "def preprocess_image(path, target_size=28):\n",
    "    # Đọc ảnh từ đường dẫn\n",
    "    img = cv2.imread(path)  \n",
    "    # Nếu không đọc được ảnh (ảnh rỗng hoặc lỗi), trả về None\n",
    "    if img is None:\n",
    "        return None\n",
    "    # Chuyển ảnh màu sang ảnh xám (grayscale)\n",
    "    gray = cv2.cvtColor(img, cv2.COLOR_BGR2GRAY)\n",
    "    # Chuyển ảnh xám thành ảnh nhị phân (đen trắng), dùng phương pháp Otsu để chọn ngưỡng tự động\n",
    "    # cv2.THRESH_BINARY_INV: nền trắng, chữ đen → đảo lại để chữ trắng, nền đen\n",
    "    _, binary = cv2.threshold(gray, 0, 255, cv2.THRESH_BINARY_INV + cv2.THRESH_OTSU)\n",
    "    # Tìm các đường viền (contour) của vật thể trắng trong ảnh\n",
    "    contours, _ = cv2.findContours(binary, cv2.RETR_EXTERNAL, cv2.CHAIN_APPROX_SIMPLE)\n",
    "    # Nếu không tìm thấy contour nào → ảnh rỗng → trả về None\n",
    "    if not contours:\n",
    "        return None\n",
    "    # Lấy contour có diện tích lớn nhất (giả định là chữ số)\n",
    "    cnt = max(contours, key=cv2.contourArea)\n",
    "    # Lấy hình chữ nhật bao quanh contour đó (tọa độ x, y, và chiều rộng, cao)\n",
    "    x, y, w, h = cv2.boundingRect(cnt)\n",
    "    # Cắt vùng ảnh chứa chữ số\n",
    "    digit = binary[y:y+h, x:x+w]\n",
    "    # Xác định kích thước vuông tối đa giữa chiều rộng và chiều cao\n",
    "    size_max = max(w, h)\n",
    "    # Tạo một ảnh vuông nền đen có kích thước lớn nhất\n",
    "    square = np.zeros((size_max, size_max), dtype=np.uint8)\n",
    "    # Tính toán khoảng trống để căn giữa chữ số trong ảnh vuông\n",
    "    x_offset = (size_max - w) // 2\n",
    "    y_offset = (size_max - h) // 2\n",
    "    # Chèn ảnh chữ số vào giữa ảnh vuông nền đen\n",
    "    square[y_offset:y_offset+h, x_offset:x_offset+w] = digit\n",
    "    # Resize ảnh vuông về kích thước 28x28 (giống input của mạng MNIST)\n",
    "    resized = cv2.resize(square, (target_size, target_size), interpolation=cv2.INTER_AREA)\n",
    "    # Chuẩn hóa giá trị pixel về khoảng [0, 1]\n",
    "    normalized = resized.astype('float32') / 255.0\n",
    "    # Thêm 1 kênh (channel) để thành dạng (28, 28, 1) – phù hợp với input của CNN\n",
    "    normalized = normalized.reshape(target_size, target_size, 1)\n",
    "    # Thêm batch dimension để thành dạng (1, 28, 28, 1) – dùng cho mô hình dự đoán\n",
    "    normalized = np.expand_dims(normalized, axis=0)\n",
    "    # Trả về ảnh đã tiền xử lý\n",
    "    return normalized\n"
   ]
  },
  {
   "cell_type": "code",
   "execution_count": 67,
   "id": "810125fa-07c4-4f18-bd9d-f1b5588040b3",
   "metadata": {},
   "outputs": [],
   "source": [
    "# Hàm load dữ liệu từ thư mục chứa ảnh, với mỗi nhãn là một thư mục con (ví dụ: root/0, root/1, ...)\n",
    "def load_data_from_folder(root_dir):\n",
    "    x_data = []  # Danh sách lưu ảnh sau khi xử lý\n",
    "    y_data = []  # Danh sách lưu nhãn tương ứng\n",
    "    # Duyệt qua tất cả thư mục con trong thư mục gốc (tên thư mục là nhãn)\n",
    "    for label in os.listdir(root_dir):\n",
    "        label_path = os.path.join(root_dir, label)\n",
    "        # Nếu không phải thư mục thì bỏ qua (phòng trường hợp file lạ trong folder gốc)\n",
    "        if not os.path.isdir(label_path): \n",
    "            continue\n",
    "        # Duyệt qua tất cả file trong thư mục nhãn\n",
    "        for filename in os.listdir(label_path):\n",
    "            # Bỏ qua những file không phải là ảnh\n",
    "            if not filename.lower().endswith(('.png', '.jpg', '.jpeg')):\n",
    "                continue\n",
    "            # Lấy đường dẫn đầy đủ đến ảnh\n",
    "            file_path = os.path.join(label_path, filename)\n",
    "            # Gọi hàm tiền xử lý ảnh\n",
    "            processed = preprocess_image(file_path)\n",
    "            # Nếu xử lý thành công thì thêm vào danh sách\n",
    "            if processed is not None:\n",
    "                x_data.append(processed)       # ảnh đã chuẩn hóa (1,28,28,1)\n",
    "                y_data.append(int(label))     # nhãn ảnh (dạng số nguyên từ tên thư mục)\n",
    "    # Chuyển danh sách thành mảng numpy, reshape lại thành (số ảnh, 28, 28, 1)\n",
    "    x_data = np.array(x_data).reshape(-1, 28, 28, 1)\n",
    "    # Chuyển nhãn thành mảng numpy (dạng vector 1 chiều)\n",
    "    y_data = np.array(y_data)\n",
    "    # Trả về tập ảnh và nhãn\n",
    "    return x_data, y_data\n"
   ]
  },
  {
   "cell_type": "code",
   "execution_count": 53,
   "id": "704af77c-6b3f-4e24-a6fb-d173b6c91725",
   "metadata": {},
   "outputs": [],
   "source": [
    "root_dir = r\"C:\\Users\\ADMIN\\Desktop\\ML\\sort_images\\sort_images\""
   ]
  },
  {
   "cell_type": "code",
   "execution_count": 68,
   "id": "bdcdd2e7-8474-402c-b74b-647cd299b344",
   "metadata": {},
   "outputs": [
    {
     "data": {
      "text/plain": [
       "<Figure size 1500x500 with 0 Axes>"
      ]
     },
     "execution_count": 68,
     "metadata": {},
     "output_type": "execute_result"
    },
    {
     "data": {
      "text/plain": [
       "<Axes: >"
      ]
     },
     "execution_count": 68,
     "metadata": {},
     "output_type": "execute_result"
    },
    {
     "data": {
      "text/plain": [
       "<matplotlib.image.AxesImage at 0x2511c6ace60>"
      ]
     },
     "execution_count": 68,
     "metadata": {},
     "output_type": "execute_result"
    },
    {
     "data": {
      "text/plain": [
       "Text(0.5, 1.0, 'Label: 0')"
      ]
     },
     "execution_count": 68,
     "metadata": {},
     "output_type": "execute_result"
    },
    {
     "data": {
      "text/plain": [
       "(-0.5, 27.5, 27.5, -0.5)"
      ]
     },
     "execution_count": 68,
     "metadata": {},
     "output_type": "execute_result"
    },
    {
     "data": {
      "text/plain": [
       "<Axes: >"
      ]
     },
     "execution_count": 68,
     "metadata": {},
     "output_type": "execute_result"
    },
    {
     "data": {
      "text/plain": [
       "<matplotlib.image.AxesImage at 0x2511cf1ac00>"
      ]
     },
     "execution_count": 68,
     "metadata": {},
     "output_type": "execute_result"
    },
    {
     "data": {
      "text/plain": [
       "Text(0.5, 1.0, 'Label: 0')"
      ]
     },
     "execution_count": 68,
     "metadata": {},
     "output_type": "execute_result"
    },
    {
     "data": {
      "text/plain": [
       "(-0.5, 27.5, 27.5, -0.5)"
      ]
     },
     "execution_count": 68,
     "metadata": {},
     "output_type": "execute_result"
    },
    {
     "data": {
      "text/plain": [
       "<Axes: >"
      ]
     },
     "execution_count": 68,
     "metadata": {},
     "output_type": "execute_result"
    },
    {
     "data": {
      "text/plain": [
       "<matplotlib.image.AxesImage at 0x2511fbf4560>"
      ]
     },
     "execution_count": 68,
     "metadata": {},
     "output_type": "execute_result"
    },
    {
     "data": {
      "text/plain": [
       "Text(0.5, 1.0, 'Label: 0')"
      ]
     },
     "execution_count": 68,
     "metadata": {},
     "output_type": "execute_result"
    },
    {
     "data": {
      "text/plain": [
       "(-0.5, 27.5, 27.5, -0.5)"
      ]
     },
     "execution_count": 68,
     "metadata": {},
     "output_type": "execute_result"
    },
    {
     "data": {
      "text/plain": [
       "<Axes: >"
      ]
     },
     "execution_count": 68,
     "metadata": {},
     "output_type": "execute_result"
    },
    {
     "data": {
      "text/plain": [
       "<matplotlib.image.AxesImage at 0x2511c5a4b30>"
      ]
     },
     "execution_count": 68,
     "metadata": {},
     "output_type": "execute_result"
    },
    {
     "data": {
      "text/plain": [
       "Text(0.5, 1.0, 'Label: 0')"
      ]
     },
     "execution_count": 68,
     "metadata": {},
     "output_type": "execute_result"
    },
    {
     "data": {
      "text/plain": [
       "(-0.5, 27.5, 27.5, -0.5)"
      ]
     },
     "execution_count": 68,
     "metadata": {},
     "output_type": "execute_result"
    },
    {
     "data": {
      "text/plain": [
       "<Axes: >"
      ]
     },
     "execution_count": 68,
     "metadata": {},
     "output_type": "execute_result"
    },
    {
     "data": {
      "text/plain": [
       "<matplotlib.image.AxesImage at 0x2511f8ff560>"
      ]
     },
     "execution_count": 68,
     "metadata": {},
     "output_type": "execute_result"
    },
    {
     "data": {
      "text/plain": [
       "Text(0.5, 1.0, 'Label: 0')"
      ]
     },
     "execution_count": 68,
     "metadata": {},
     "output_type": "execute_result"
    },
    {
     "data": {
      "text/plain": [
       "(-0.5, 27.5, 27.5, -0.5)"
      ]
     },
     "execution_count": 68,
     "metadata": {},
     "output_type": "execute_result"
    },
    {
     "data": {
      "text/plain": [
       "<Axes: >"
      ]
     },
     "execution_count": 68,
     "metadata": {},
     "output_type": "execute_result"
    },
    {
     "data": {
      "text/plain": [
       "<matplotlib.image.AxesImage at 0x2511cf19760>"
      ]
     },
     "execution_count": 68,
     "metadata": {},
     "output_type": "execute_result"
    },
    {
     "data": {
      "text/plain": [
       "Text(0.5, 1.0, 'Label: 0')"
      ]
     },
     "execution_count": 68,
     "metadata": {},
     "output_type": "execute_result"
    },
    {
     "data": {
      "text/plain": [
       "(-0.5, 27.5, 27.5, -0.5)"
      ]
     },
     "execution_count": 68,
     "metadata": {},
     "output_type": "execute_result"
    },
    {
     "data": {
      "text/plain": [
       "<Axes: >"
      ]
     },
     "execution_count": 68,
     "metadata": {},
     "output_type": "execute_result"
    },
    {
     "data": {
      "text/plain": [
       "<matplotlib.image.AxesImage at 0x2511f8becf0>"
      ]
     },
     "execution_count": 68,
     "metadata": {},
     "output_type": "execute_result"
    },
    {
     "data": {
      "text/plain": [
       "Text(0.5, 1.0, 'Label: 0')"
      ]
     },
     "execution_count": 68,
     "metadata": {},
     "output_type": "execute_result"
    },
    {
     "data": {
      "text/plain": [
       "(-0.5, 27.5, 27.5, -0.5)"
      ]
     },
     "execution_count": 68,
     "metadata": {},
     "output_type": "execute_result"
    },
    {
     "data": {
      "text/plain": [
       "<Axes: >"
      ]
     },
     "execution_count": 68,
     "metadata": {},
     "output_type": "execute_result"
    },
    {
     "data": {
      "text/plain": [
       "<matplotlib.image.AxesImage at 0x2511cf1aae0>"
      ]
     },
     "execution_count": 68,
     "metadata": {},
     "output_type": "execute_result"
    },
    {
     "data": {
      "text/plain": [
       "Text(0.5, 1.0, 'Label: 0')"
      ]
     },
     "execution_count": 68,
     "metadata": {},
     "output_type": "execute_result"
    },
    {
     "data": {
      "text/plain": [
       "(-0.5, 27.5, 27.5, -0.5)"
      ]
     },
     "execution_count": 68,
     "metadata": {},
     "output_type": "execute_result"
    },
    {
     "data": {
      "text/plain": [
       "<Axes: >"
      ]
     },
     "execution_count": 68,
     "metadata": {},
     "output_type": "execute_result"
    },
    {
     "data": {
      "text/plain": [
       "<matplotlib.image.AxesImage at 0x2511f3eb050>"
      ]
     },
     "execution_count": 68,
     "metadata": {},
     "output_type": "execute_result"
    },
    {
     "data": {
      "text/plain": [
       "Text(0.5, 1.0, 'Label: 0')"
      ]
     },
     "execution_count": 68,
     "metadata": {},
     "output_type": "execute_result"
    },
    {
     "data": {
      "text/plain": [
       "(-0.5, 27.5, 27.5, -0.5)"
      ]
     },
     "execution_count": 68,
     "metadata": {},
     "output_type": "execute_result"
    },
    {
     "data": {
      "text/plain": [
       "<Axes: >"
      ]
     },
     "execution_count": 68,
     "metadata": {},
     "output_type": "execute_result"
    },
    {
     "data": {
      "text/plain": [
       "<matplotlib.image.AxesImage at 0x2511f8e9520>"
      ]
     },
     "execution_count": 68,
     "metadata": {},
     "output_type": "execute_result"
    },
    {
     "data": {
      "text/plain": [
       "Text(0.5, 1.0, 'Label: 0')"
      ]
     },
     "execution_count": 68,
     "metadata": {},
     "output_type": "execute_result"
    },
    {
     "data": {
      "text/plain": [
       "(-0.5, 27.5, 27.5, -0.5)"
      ]
     },
     "execution_count": 68,
     "metadata": {},
     "output_type": "execute_result"
    },
    {
     "data": {
      "image/png": "[encoded data removed]",
      "text/plain": [
       "<Figure size 1500x500 with 10 Axes>"
      ]
     },
     "metadata": {},
     "output_type": "display_data"
    }
   ],
   "source": [
    "import matplotlib.pyplot as plt\n",
    "# Giả sử bạn đã load dữ liệu bằng hàm load_data_from_folder\n",
    "x_data, y_data = load_data_from_folder(root_dir)\n",
    "# Tạo figure với kích thước lớn để hiển thị ảnh (chiều ngang 15 inch, chiều cao 5 inch)\n",
    "plt.figure(figsize=(15, 5))\n",
    "# Hiển thị 10 ảnh đầu tiên trong dữ liệu\n",
    "for i in range(10):\n",
    "    # Tạo subplot tại vị trí i+1 trong lưới 2 hàng x 5 cột\n",
    "    plt.subplot(2, 5, i + 1)\n",
    "    # Hiển thị ảnh thứ i (squeeze để loại bỏ chiều dư thừa (1,28,28,1) → (28,28))\n",
    "    plt.imshow(x_data[i].squeeze(), cmap='gray')\n",
    "    # Đặt tiêu đề là nhãn tương ứng\n",
    "    plt.title(f\"Label: {y_data[i]}\")\n",
    "    # Tắt hiển thị trục x/y\n",
    "    plt.axis('off')\n",
    "# Tự động căn chỉnh layout cho đẹp\n",
    "plt.tight_layout()\n",
    "# Hiển thị hình ảnh\n",
    "plt.show()\n"
   ]
  },
  {
   "cell_type": "code",
   "execution_count": 55,
   "id": "368cf4cf-cd09-4acd-adbc-6726dd6982af",
   "metadata": {},
   "outputs": [],
   "source": [
    "# Lớp mạng nơ-ron tích chập (CNN)\n",
    "# Input có kích thước: (batch_size, 1, 28, 28)\n",
    "class Net(nn.Module):\n",
    "    def __init__(self):\n",
    "        super().__init__()\n",
    "        # Lớp tích chập 1: input 1 channel (gray), output 32 channels, kernel 3x3\n",
    "        self.conv1 = nn.Conv2d(1, 32, 3)\n",
    "        # Lớp pooling: giảm kích thước ảnh bằng max pooling 2x2\n",
    "        self.pool = nn.MaxPool2d(2, 2)\n",
    "        # Lớp tích chập 2: input 32 channels, output 64 channels, kernel 3x3\n",
    "        self.conv2 = nn.Conv2d(32, 64, 3)\n",
    "        # Fully connected layer 1:\n",
    "        # Sau 2 lần conv + pooling, ảnh (28x28) → (5x5) với 64 kênh\n",
    "        # 64 * 5 * 5 = 1600 node đầu vào\n",
    "        self.fc1 = nn.Linear(64 * 5 * 5, 64)\n",
    "        # Fully connected layer 2: output 10 lớp tương ứng với 10 chữ số (0–9)\n",
    "        self.fc2 = nn.Linear(64, 10)\n",
    "    def forward(self, x):\n",
    "        # Áp dụng conv1 → ReLU → pooling\n",
    "        x = self.pool(F.relu(self.conv1(x)))\n",
    "        # Áp dụng conv2 → ReLU → pooling\n",
    "        x = self.pool(F.relu(self.conv2(x)))\n",
    "        # Flatten: biến tensor thành vector để đưa vào fully connected layer\n",
    "        x = torch.flatten(x, 1)\n",
    "        # FC1 → ReLU\n",
    "        x = F.relu(self.fc1(x))\n",
    "        # FC2 → đầu ra chưa chuẩn hóa (logits)\n",
    "        x = self.fc2(x)\n",
    "        return x"
   ]
  },
  {
   "cell_type": "code",
   "execution_count": 56,
   "id": "e26ceaa0-8b28-4e5d-95d9-4c3db76205b4",
   "metadata": {},
   "outputs": [],
   "source": [
    "# Hàm huấn luyện mô hình cho 1 epoch\n",
    "def train(model, train_loader, criterion, optimizer, device):\n",
    "    model.train()  # Đặt mô hình ở chế độ huấn luyện (train mode)\n",
    "    running_loss = 0.0  # Tổng loss trong epoch\n",
    "    correct = 0         # Số lượng dự đoán đúng\n",
    "    total = 0           # Tổng số mẫu\n",
    "    # Duyệt qua từng batch trong dataloader\n",
    "    for images, labels in train_loader:\n",
    "        # Đưa dữ liệu lên GPU (nếu có)\n",
    "        images, labels = images.to(device), labels.to(device)\n",
    "        # Reset gradient của các tham số\n",
    "        optimizer.zero_grad()\n",
    "        # Truyền ảnh vào mô hình để lấy output\n",
    "        outputs = model(images)\n",
    "        # Tính loss giữa output và ground truth (nhãn thật)\n",
    "        loss = criterion(outputs, labels)\n",
    "        # Lan truyền ngược gradient\n",
    "        loss.backward()\n",
    "        # Cập nhật trọng số bằng optimizer\n",
    "        optimizer.step()\n",
    "        # Cộng dồn loss để tính trung bình sau này\n",
    "        running_loss += loss.item()\n",
    "        # Lấy nhãn dự đoán từ output (chọn class có xác suất cao nhất)\n",
    "        _, predicted = torch.max(outputs, 1)\n",
    "        # Tăng tổng số mẫu và số mẫu đúng\n",
    "        total += labels.size(0)\n",
    "        correct += (predicted == labels).sum().item()\n",
    "    # Tính loss trung bình trên toàn bộ tập train\n",
    "    avg_loss = running_loss / len(train_loader)\n",
    "    # Tính accuracy (% mẫu dự đoán đúng)\n",
    "    acc = 100 * correct / total\n",
    "    # In loss (accuracy sẽ in ở ngoài nếu cần)\n",
    "    print(f\"Train loss: {avg_loss:.4f} \")\n",
    "    # Trả về loss và accuracy để dùng trong quá trình theo dõi huấn luyện\n",
    "    return avg_loss, acc\n",
    "\n",
    "# Hàm test đánh giá\n",
    "from collections import defaultdict\n",
    "import torch\n",
    "from sklearn.metrics import confusion_matrix, ConfusionMatrixDisplay\n",
    "import matplotlib.pyplot as plt\n",
    "\n",
    "# Hàm test: đánh giá mô hình trên tập kiểm thử (test_loader)\n",
    "# Tham số:\n",
    "# - model: mô hình đã huấn luyện\n",
    "# - test_loader: DataLoader chứa dữ liệu test\n",
    "# - criterion: hàm mất mát (loss function)\n",
    "# - device: CPU hoặc GPU\n",
    "# - verbose: nếu True thì in thêm độ chính xác từng số và hiển thị ma trận nhầm lẫn\n",
    "\n",
    "def test(model, test_loader, criterion, device, verbose=False):\n",
    "    model.eval()  # Đặt mô hình ở chế độ đánh giá (không học, tắt dropout, batchnorm)   \n",
    "    correct = 0        # Tổng số dự đoán đúng\n",
    "    total = 0          # Tổng số mẫu\n",
    "    loss_total = 0.0   # Tổng loss\n",
    "    class_correct = defaultdict(int)  # Số lượng đúng theo từng lớp\n",
    "    class_total = defaultdict(int)    # Tổng số mẫu theo từng lớp\n",
    "    all_preds = []     # Danh sách toàn bộ dự đoán\n",
    "    all_labels = []    # Danh sách toàn bộ nhãn thật\n",
    "    with torch.no_grad():  # Tắt gradient để tăng tốc và tiết kiệm bộ nhớ khi test\n",
    "        for images, labels in test_loader:\n",
    "            images, labels = images.to(device), labels.to(device)\n",
    "            # Truyền ảnh qua mô hình → lấy dự đoán đầu ra\n",
    "            outputs = model(images)\n",
    "            # Tính loss của batch hiện tại\n",
    "            loss = criterion(outputs, labels)\n",
    "            loss_total += loss.item()\n",
    "            # Lấy class có xác suất cao nhất\n",
    "            _, predicted = torch.max(outputs, 1)\n",
    "            # Cộng tổng số mẫu và số đúng\n",
    "            total += labels.size(0)\n",
    "            correct += (predicted == labels).sum().item()\n",
    "            # Lưu kết quả để tạo confusion matrix\n",
    "            all_preds.extend(predicted.cpu().numpy())\n",
    "            all_labels.extend(labels.cpu().numpy())\n",
    "            # Cập nhật đúng/sai theo từng nhãn\n",
    "            for i in range(len(labels)):\n",
    "                label = labels[i].item()\n",
    "                pred = predicted[i].item()\n",
    "                if label == pred:\n",
    "                    class_correct[label] += 1\n",
    "                class_total[label] += 1\n",
    "    # Tính loss trung bình toàn bộ test set\n",
    "    avg_loss = loss_total / len(test_loader)\n",
    "    # Tính độ chính xác tổng thể (% đúng)\n",
    "    acc = 100 * correct / total\n",
    "    print(f\"\\nTest loss: {avg_loss:.4f} - Accuracy: {acc:.2f}%\")\n",
    "    # Nếu bật chế độ verbose, in chi tiết hơn\n",
    "    if verbose:\n",
    "        print(\"\\n🎯 Độ chính xác theo từng chữ số:\")\n",
    "        for digit in range(10):\n",
    "            if class_total[digit] > 0:\n",
    "                acc_digit = 100 * class_correct[digit] / class_total[digit]\n",
    "                print(f\"   - Số {digit}: {acc_digit:.2f}% ({class_correct[digit]}/{class_total[digit]})\")\n",
    "            else:\n",
    "                print(f\"   - Số {digit}: Không có dữ liệu test\")\n",
    "        # Vẽ ma trận nhầm lẫn (confusion matrix)\n",
    "        print(\"\\n🧩 Ma trận nhầm lẫn:\")\n",
    "        cm = confusion_matrix(all_labels, all_preds)\n",
    "        disp = ConfusionMatrixDisplay(confusion_matrix=cm)\n",
    "        disp.plot(cmap=\"Blues\", values_format=\"d\")\n",
    "        plt.title(\"Confusion Matrix - Epoch Cuối\")\n",
    "        plt.show()\n",
    "    return avg_loss, acc  # Trả về loss và accuracy"
   ]
  },
  {
   "cell_type": "code",
   "execution_count": 57,
   "id": "d9768b42-2955-4341-81fb-0d29ba0c28e0",
   "metadata": {},
   "outputs": [],
   "source": [
    "# Hàm dự đoán chữ số từ tất cả ảnh trong 1 thư mục và ghi kết quả ra file CSV\n",
    "def predict_digits_from_folder(model, input_folder, output_csv, device='cpu'):\n",
    "    model.eval()  # Đặt mô hình ở chế độ đánh giá (không cập nhật trọng số)\n",
    "    results = []  # Danh sách lưu kết quả dự đoán [tên file, nhãn dự đoán]\n",
    "    # Duyệt qua từng ảnh trong thư mục (sắp xếp tên file tăng dần)\n",
    "    for filename in sorted(os.listdir(input_folder)):\n",
    "        # Bỏ qua file không phải ảnh\n",
    "        if not filename.lower().endswith(('.png', '.jpg', '.jpeg')):\n",
    "            continue\n",
    "        # Đường dẫn đầy đủ tới ảnh\n",
    "        file_path = os.path.join(input_folder, filename)\n",
    "        # Gọi hàm tiền xử lý ảnh (resize, nhị phân, căn giữa, chuẩn hóa)\n",
    "        processed = preprocess_image(file_path)\n",
    "        # Nếu ảnh lỗi (trả về None) thì bỏ qua\n",
    "        if processed is None:\n",
    "            print(f\"⚠️ Bỏ qua ảnh lỗi: {filename}\")\n",
    "            continue\n",
    "        # Chuyển ảnh về tensor PyTorch (1, 28, 28, 1) → (1, 1, 28, 28)\n",
    "        input_tensor = torch.tensor(processed, dtype=torch.float32).permute(0, 3, 1, 2).to(device)\n",
    "        # Không cần gradient khi dự đoán\n",
    "        with torch.no_grad():\n",
    "            # Truyền ảnh vào mô hình để lấy output (logits)\n",
    "            output = model(input_tensor)\n",
    "            # Lấy nhãn dự đoán (vị trí có xác suất cao nhất)\n",
    "            predicted_label = torch.argmax(output, dim=1).item()\n",
    "        # Thêm vào danh sách kết quả\n",
    "        results.append([filename, predicted_label])\n",
    "    # Chuyển kết quả thành DataFrame\n",
    "    df = pd.DataFrame(results, columns=[\"filename\", \"predicted_label\"])\n",
    "    # Ghi ra file CSV (không ghi chỉ mục)\n",
    "    df.to_csv(output_csv, index=False)\n",
    "    print(f\"✅ Đã ghi kết quả vào: {output_csv}\")"
   ]
  },
  {
   "cell_type": "code",
   "execution_count": 58,
   "id": "080ab67d-8beb-4917-a4a6-e52a62241398",
   "metadata": {},
   "outputs": [
    {
     "name": "stdout",
     "output_type": "stream",
     "text": [
      "Số ảnh đã load: 6747\n",
      "Shape x_data: (6747, 28, 28, 1)\n",
      "Shape y_data: (6747,)\n"
     ]
    }
   ],
   "source": [
    "# Load dữ liệu\n",
    "x_data, y_data = load_data_from_folder(root_dir)\n",
    "print(f\"Số ảnh đã load: {len(x_data)}\")\n",
    "print(f\"Shape x_data: {x_data.shape}\")\n",
    "print(f\"Shape y_data: {y_data.shape}\")"
   ]
  },
  {
   "cell_type": "code",
   "execution_count": 59,
   "id": "a11aad0b-8fdd-49c2-890c-8e9f43e63bfe",
   "metadata": {},
   "outputs": [],
   "source": [
    "# Chia train/test\n",
    "x_train, x_test, y_train, y_test = train_test_split(\n",
    "    x_data, y_data, test_size=0.2, stratify=y_data, random_state=42\n",
    ")"
   ]
  },
  {
   "cell_type": "code",
   "execution_count": 60,
   "id": "fcdb2ee0-18ca-4ef5-ab75-75b1f127996c",
   "metadata": {},
   "outputs": [],
   "source": [
    "# Chuyển x_train (ảnh huấn luyện) từ numpy array sang tensor float32 và đổi chiều\n",
    "# Gốc: (N, 28, 28, 1) → Sau permute: (N, 1, 28, 28) phù hợp với CNN (batch, channel, height, width)\n",
    "x_train_tensor = torch.tensor(x_train, dtype=torch.float32).permute(0, 3, 1, 2)\n",
    "# Tương tự với tập test\n",
    "x_test_tensor = torch.tensor(x_test, dtype=torch.float32).permute(0, 3, 1, 2)\n",
    "# Chuyển nhãn y_train sang tensor kiểu long (bắt buộc cho CrossEntropyLoss)\n",
    "y_train_tensor = torch.tensor(y_train, dtype=torch.long)\n",
    "# Tương tự với nhãn của tập test\n",
    "y_test_tensor = torch.tensor(y_test, dtype=torch.long)\n"
   ]
  },
  {
   "cell_type": "code",
   "execution_count": 61,
   "id": "d53ed9df-b3a8-42c0-b7d4-3003c60b7e7b",
   "metadata": {},
   "outputs": [],
   "source": [
    "# Tạo DataLoader\n",
    "train_dataset = TensorDataset(x_train_tensor, y_train_tensor)\n",
    "test_dataset = TensorDataset(x_test_tensor, y_test_tensor)\n",
    "\n",
    "train_loader = DataLoader(train_dataset, batch_size=64, shuffle=True)\n",
    "test_loader = DataLoader(test_dataset, batch_size=1000)"
   ]
  },
  {
   "cell_type": "code",
   "execution_count": 62,
   "id": "e16ad4f1-e1b6-43bf-b88d-a6e21957990b",
   "metadata": {},
   "outputs": [
    {
     "name": "stdout",
     "output_type": "stream",
     "text": [
      "\n",
      "Epoch 1\n",
      "Train loss: 1.9862 \n",
      "\n",
      "Test loss: 1.7314 - Accuracy: 46.67%\n",
      "\n",
      "Epoch 2\n",
      "Train loss: 1.5400 \n",
      "\n",
      "Test loss: 1.4516 - Accuracy: 56.00%\n",
      "\n",
      "Epoch 3\n",
      "Train loss: 1.3470 \n",
      "\n",
      "Test loss: 1.3258 - Accuracy: 60.44%\n",
      "\n",
      "Epoch 4\n",
      "Train loss: 1.2335 \n",
      "\n",
      "Test loss: 1.2560 - Accuracy: 64.59%\n",
      "\n",
      "Epoch 5\n",
      "Train loss: 1.1570 \n",
      "\n",
      "Test loss: 1.2402 - Accuracy: 63.33%\n",
      "\n",
      "Epoch 6\n",
      "Train loss: 1.1029 \n",
      "\n",
      "Test loss: 1.2040 - Accuracy: 64.96%\n",
      "\n",
      "Epoch 7\n",
      "Train loss: 1.0406 \n",
      "\n",
      "Test loss: 1.2199 - Accuracy: 63.04%\n",
      "\n",
      "Epoch 8\n",
      "Train loss: 0.9942 \n",
      "\n",
      "Test loss: 1.1900 - Accuracy: 65.78%\n",
      "\n",
      "Epoch 9\n",
      "Train loss: 0.9530 \n",
      "\n",
      "Test loss: 1.1367 - Accuracy: 67.63%\n",
      "\n",
      "Epoch 10\n",
      "Train loss: 0.8911 \n",
      "\n",
      "Test loss: 1.1371 - Accuracy: 67.78%\n",
      "\n",
      "Epoch 11\n",
      "Train loss: 0.8325 \n",
      "\n",
      "Test loss: 1.1447 - Accuracy: 67.56%\n",
      "\n",
      "Epoch 12\n",
      "Train loss: 0.7881 \n",
      "\n",
      "Test loss: 1.1472 - Accuracy: 67.33%\n",
      "\n",
      "Epoch 13\n",
      "Train loss: 0.7458 \n",
      "\n",
      "Test loss: 1.1712 - Accuracy: 67.56%\n",
      "\n",
      "Epoch 14\n",
      "Train loss: 0.6945 \n",
      "\n",
      "Test loss: 1.1986 - Accuracy: 67.26%\n",
      "\n",
      "Epoch 15\n",
      "Train loss: 0.6620 \n",
      "\n",
      "Test loss: 1.1680 - Accuracy: 67.70%\n",
      "\n",
      "Epoch 16\n",
      "Train loss: 0.6259 \n",
      "\n",
      "Test loss: 1.1861 - Accuracy: 68.37%\n",
      "\n",
      "Epoch 17\n",
      "Train loss: 0.5958 \n",
      "\n",
      "Test loss: 1.1925 - Accuracy: 69.48%\n",
      "\n",
      "Epoch 18\n",
      "Train loss: 0.5508 \n",
      "\n",
      "Test loss: 1.2063 - Accuracy: 69.11%\n",
      "\n",
      "Epoch 19\n",
      "Train loss: 0.5175 \n",
      "\n",
      "Test loss: 1.2224 - Accuracy: 70.07%\n",
      "\n",
      "Epoch 20\n",
      "Train loss: 0.4890 \n",
      "\n",
      "Test loss: 1.2526 - Accuracy: 68.96%\n",
      "\n",
      "🎯 Độ chính xác theo từng chữ số:\n",
      "   - Số 0: 64.39% (85/132)\n",
      "   - Số 1: 58.82% (80/136)\n",
      "   - Số 2: 77.78% (105/135)\n",
      "   - Số 3: 60.74% (82/135)\n",
      "   - Số 4: 64.71% (88/136)\n",
      "   - Số 5: 71.64% (96/134)\n",
      "   - Số 6: 77.61% (104/134)\n",
      "   - Số 7: 77.94% (106/136)\n",
      "   - Số 8: 66.91% (91/136)\n",
      "   - Số 9: 69.12% (94/136)\n",
      "\n",
      "🧩 Ma trận nhầm lẫn:\n"
     ]
    },
    {
     "data": {
      "image/png": "[encoded data removed]",
      "text/plain": [
       "<Figure size 640x480 with 2 Axes>"
      ]
     },
     "metadata": {},
     "output_type": "display_data"
    }
   ],
   "source": [
    "\n",
    "# Chọn thiết bị chạy: Ưu tiên GPU nếu có, không thì dùng CPU\n",
    "device = torch.device(\"cuda\" if torch.cuda.is_available() else \"cpu\")\n",
    "# Khởi tạo mô hình và đưa lên thiết bị\n",
    "model = Net().to(device)\n",
    "# Chọn hàm mất mát: CrossEntropyLoss phù hợp cho bài toán phân loại đa lớp\n",
    "criterion = nn.CrossEntropyLoss()\n",
    "# Khởi tạo optimizer Adam với learning rate = 0.001\n",
    "optimizer = torch.optim.Adam(model.parameters(), lr=0.001)\n",
    "# Import thư viện vẽ biểu đồ\n",
    "import matplotlib.pyplot as plt\n",
    "# Danh sách lưu loss và accuracy để theo dõi quá trình huấn luyện\n",
    "train_losses, train_accuracies = [], []\n",
    "test_losses, test_accuracies = [], []\n",
    "\n",
    "# Huấn luyện mô hình trong 20 epoch\n",
    "for epoch in range(1, 21):\n",
    "    print(f\"\\nEpoch {epoch}\")\n",
    "    # --- Huấn luyện trên tập train ---\n",
    "    train_loss, train_acc = train(model, train_loader, criterion, optimizer, device)\n",
    "    # --- Đánh giá trên tập test ---\n",
    "    is_last = (epoch == 20)  # Chỉ in chi tiết ở epoch cuối\n",
    "    test_loss, test_acc = test(model, test_loader, criterion, device, verbose=is_last)\n",
    "    # Ghi lại kết quả để vẽ biểu đồ sau\n",
    "    train_losses.append(train_loss)\n",
    "    train_accuracies.append(train_acc)\n",
    "    test_losses.append(test_loss)\n",
    "    test_accuracies.append(test_acc)\n"
   ]
  },
  {
   "cell_type": "code",
   "execution_count": null,
   "id": "c72f595f-97fd-4c47-a880-b1befce867af",
   "metadata": {},
   "outputs": [],
   "source": [
    "# độ chính xác của tập test tăng dần theo từng epoch tuy nhiên đến một số lượng epoch nào đó độ chính xác sẽ tăng chậm (hầu như ko thay đổi) đó chính \n",
    "# độ chính xác tối đa của mô hình \n",
    "\n",
    "\n",
    "\n",
    "# theo ma trận nhầm lẫn ta thấy được các ô đường chéo chính của ma trận chiếm số lượng lớn nhấ trong các hàng cho thấy khả năng dự đoán của mô hình \n",
    "# tương đối tốt \n",
    "# Bên cạnh đó vẫn còn một số ô trong các hàng ngang vẫn còn giá trị cao cho thấy các số dẽ bị nhầm lẫn nhau \n",
    "# số 0 dễ bị nhầm lẫn thành số 2 (13 lần) và số 7 (9 lần)\n",
    "# số 1 đẽ bị nhầm lẫn thành số 2 (15 lần) số 4 (12 lần) và số 7 (11 lần)\n",
    "# số 2 dễ bị nhầm lẫn thành số 3 (8 lần)\n",
    "# số 3 dễ bị nhầm lẫn thành số 4 (10 lần) số 5 (11 lần) và số 7(12 lần)\n",
    "# số 4 dễ bị nhầm lẫn thành số 7 (10 lần)\n",
    "# số 5 dễ bị nhầm lẫn thành số 3 (9 lần)\n",
    "# số 6 dễ bị nhầm lẫn thành số 8 (7 lần)\n",
    "# số 7 dễ bị nhầm lẫn thành số 2 (6 lần)\n",
    "# số 8 dễ bị nhầm lẫn thành số 7 (9 lần)\n",
    "# số 9 dễ bị nhầm lẫn thành số 2 (11 lần) và số 7(9 lần) \n",
    "# và theo độ chính xác ở epoch cuối cùng thì trong bài toán này các số có độ chính xác cao là : 6,7,2\n",
    "# và theo độ chính xác ở epoch cuối cùng thì trong bài toán này các số có độ chính xác thấp là : 1,3"
   ]
  },
  {
   "cell_type": "code",
   "execution_count": 63,
   "id": "fde190ae-5424-4bed-96f2-7b391413314e",
   "metadata": {},
   "outputs": [
    {
     "data": {
      "text/plain": [
       "<Figure size 1000x400 with 0 Axes>"
      ]
     },
     "execution_count": 63,
     "metadata": {},
     "output_type": "execute_result"
    },
    {
     "data": {
      "text/plain": [
       "<Axes: >"
      ]
     },
     "execution_count": 63,
     "metadata": {},
     "output_type": "execute_result"
    },
    {
     "data": {
      "text/plain": [
       "[<matplotlib.lines.Line2D at 0x2511c5a6900>]"
      ]
     },
     "execution_count": 63,
     "metadata": {},
     "output_type": "execute_result"
    },
    {
     "data": {
      "text/plain": [
       "[<matplotlib.lines.Line2D at 0x2511fc10f20>]"
      ]
     },
     "execution_count": 63,
     "metadata": {},
     "output_type": "execute_result"
    },
    {
     "data": {
      "text/plain": [
       "Text(0.5, 0, 'Epoch')"
      ]
     },
     "execution_count": 63,
     "metadata": {},
     "output_type": "execute_result"
    },
    {
     "data": {
      "text/plain": [
       "Text(0, 0.5, 'Loss')"
      ]
     },
     "execution_count": 63,
     "metadata": {},
     "output_type": "execute_result"
    },
    {
     "data": {
      "text/plain": [
       "Text(0.5, 1.0, 'Loss per Epoch')"
      ]
     },
     "execution_count": 63,
     "metadata": {},
     "output_type": "execute_result"
    },
    {
     "data": {
      "text/plain": [
       "<matplotlib.legend.Legend at 0x2511c0514f0>"
      ]
     },
     "execution_count": 63,
     "metadata": {},
     "output_type": "execute_result"
    },
    {
     "data": {
      "text/plain": [
       "<Axes: >"
      ]
     },
     "execution_count": 63,
     "metadata": {},
     "output_type": "execute_result"
    },
    {
     "data": {
      "text/plain": [
       "[<matplotlib.lines.Line2D at 0x2511fbb9b20>]"
      ]
     },
     "execution_count": 63,
     "metadata": {},
     "output_type": "execute_result"
    },
    {
     "data": {
      "text/plain": [
       "Text(0.5, 0, 'Epoch')"
      ]
     },
     "execution_count": 63,
     "metadata": {},
     "output_type": "execute_result"
    },
    {
     "data": {
      "text/plain": [
       "Text(0, 0.5, 'Accuracy (%)')"
      ]
     },
     "execution_count": 63,
     "metadata": {},
     "output_type": "execute_result"
    },
    {
     "data": {
      "text/plain": [
       "Text(0.5, 1.0, 'Accuracy per Epoch')"
      ]
     },
     "execution_count": 63,
     "metadata": {},
     "output_type": "execute_result"
    },
    {
     "data": {
      "text/plain": [
       "<matplotlib.legend.Legend at 0x2511c208260>"
      ]
     },
     "execution_count": 63,
     "metadata": {},
     "output_type": "execute_result"
    },
    {
     "data": {
      "image/png": "[encoded data removed]",
      "text/plain": [
       "<Figure size 1000x400 with 2 Axes>"
      ]
     },
     "metadata": {},
     "output_type": "display_data"
    }
   ],
   "source": [
    "# Vẽ biểu đồ loss và accuracy\n",
    "plt.figure(figsize=(10, 4))\n",
    "\n",
    "# Loss plot\n",
    "plt.subplot(1, 2, 1)\n",
    "plt.plot(train_losses, label='Train Loss')\n",
    "plt.plot(test_losses, label='Test Loss')\n",
    "plt.xlabel('Epoch')\n",
    "plt.ylabel('Loss')\n",
    "plt.title('Loss per Epoch')\n",
    "plt.legend()\n",
    "\n",
    "# Accuracy plot\n",
    "plt.subplot(1, 2, 2)\n",
    "#plt.plot(train_accuracies, label='Train Accuracy')\n",
    "plt.plot(test_accuracies, label='Test Accuracy')\n",
    "plt.xlabel('Epoch')\n",
    "plt.ylabel('Accuracy (%)')\n",
    "plt.title('Accuracy per Epoch')\n",
    "plt.legend()\n",
    "\n",
    "plt.tight_layout()\n",
    "plt.show()\n"
   ]
  },
  {
   "cell_type": "code",
   "execution_count": 64,
   "id": "dd77cf9a-5df0-4921-9628-f2b23559daf6",
   "metadata": {},
   "outputs": [
    {
     "name": "stdout",
     "output_type": "stream",
     "text": [
      "⚠️ Bỏ qua ảnh lỗi: 21151445fd63ff79440449974f17109d.jpg\n",
      "⚠️ Bỏ qua ảnh lỗi: 2c18ee0e7cea8354149df435532d74ae.jpeg\n",
      "⚠️ Bỏ qua ảnh lỗi: 3a816aa78f56749a0822d700ff560924.jpeg\n",
      "⚠️ Bỏ qua ảnh lỗi: 4abc1b5dcf1be1de6503dc072e132fa0.jpeg\n",
      "⚠️ Bỏ qua ảnh lỗi: 70ebf0bec317006017a54d6c9172af45.jpeg\n",
      "⚠️ Bỏ qua ảnh lỗi: 8eeee227b3f244e980b747387bc79bf2.jpeg\n",
      "⚠️ Bỏ qua ảnh lỗi: 9e748b9617e26b90011f8d7c3f8a7eee.jpeg\n",
      "⚠️ Bỏ qua ảnh lỗi: a008f795ae8498751f2e5feeb0b73387.jpeg\n",
      "⚠️ Bỏ qua ảnh lỗi: ce2388179ec73203a60d8efedd04e0f1.jpeg\n",
      "⚠️ Bỏ qua ảnh lỗi: d4b080c6ce4933f1199fad7f75e7d112.jpeg\n",
      "⚠️ Bỏ qua ảnh lỗi: e21dcb1cb0571a21a013b4232d1b6a13.jpeg\n",
      "⚠️ Bỏ qua ảnh lỗi: f7679411e290bfd8dc90b3eadb57460a.jpeg\n",
      "⚠️ Bỏ qua ảnh lỗi: ffd4f9df7163f55474a0182265c8d810.jpeg\n",
      "✅ Đã ghi kết quả vào: C:\\Users\\ADMIN\\Desktop\\ML\\sub.csv\n"
     ]
    }
   ],
   "source": [
    "# Dự đoán trên folder ảnh mới\n",
    "INPUT_FOLDER = r\"C:\\Users\\ADMIN\\Desktop\\ML\\data.2025\"\n",
    "OUTPUT_CSV   = r\"C:\\Users\\ADMIN\\Desktop\\ML\\sub.csv\"\n",
    "\n",
    "\n",
    "predict_digits_from_folder(model, INPUT_FOLDER, OUTPUT_CSV, device=device)"
   ]
  },
  {
   "cell_type": "code",
   "execution_count": null,
   "id": "78048ebb-67c1-4dd0-b2dd-7361593962ea",
   "metadata": {},
   "outputs": [],
   "source": []
  }
 ],
 "metadata": {
  "kernelspec": {
   "display_name": "PyTorch (GPU)",
   "language": "python",
   "name": "pytorch_gpu"
  },
  "language_info": {
   "codemirror_mode": {
    "name": "ipython",
    "version": 3
   },
   "file_extension": ".py",
   "mimetype": "text/x-python",
   "name": "python",
   "nbconvert_exporter": "python",
   "pygments_lexer": "ipython3",
   "version": "3.12.6"
  }
 },
 "nbformat": 4,
 "nbformat_minor": 5
}
