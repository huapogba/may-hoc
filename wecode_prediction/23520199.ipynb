{
 "cells": [
  {
   "cell_type": "markdown",
   "id": "1fe85115",
   "metadata": {},
   "source": [
    "<h1 style=\"text-align: center;\"> FINAL PROJECT </h1>\n",
    "<h2 style=\"text-align: center;\"> Dự đoán điểm IT001 từ dữ liệu làm bài trên WECODE </h2>"
   ]
  },
  {
   "cell_type": "markdown",
   "id": "0bda1c31",
   "metadata": {},
   "source": [
    "---"
   ]
  },
  {
   "cell_type": "markdown",
   "id": "78dfa27b",
   "metadata": {},
   "source": [
    "#### Lớp: CS114.P21"
   ]
  },
  {
   "cell_type": "markdown",
   "id": "dda6ff21",
   "metadata": {},
   "source": [
    "#### Thành viên nhóm"
   ]
  },
  {
   "cell_type": "markdown",
   "id": "f2490591",
   "metadata": {},
   "source": [
    "1. Nguyễn Chí Cường - 23520199\n",
    "2. Hứa Mạnh Tân - 23521396\n",
    "3. Nguyễn Tấn Tài - 23521376"
   ]
  },
  {
   "cell_type": "markdown",
   "id": "00f73200",
   "metadata": {},
   "source": [
    "#### MỤC LỤC"
   ]
  },
  {
   "cell_type": "markdown",
   "id": "ca1159d1",
   "metadata": {},
   "source": [
    "---"
   ]
  },
  {
   "cell_type": "markdown",
   "id": "f791591c",
   "metadata": {},
   "source": [
    "## 1. Chuẩn bị dữ liệu và một số thông tin về bộ dữ liệu"
   ]
  },
  {
   "cell_type": "markdown",
   "id": "28ff4ee8",
   "metadata": {},
   "source": [
    "### 1.1. Import thư viện cần thiết"
   ]
  },
  {
   "cell_type": "code",
   "execution_count": 1,
   "id": "3cf054de",
   "metadata": {},
   "outputs": [],
   "source": [
    "import numpy as np\n",
    "import pandas as pd\n",
    "import matplotlib.pyplot as plt\n",
    "from sklearn.model_selection import train_test_split\n",
    "\n",
    "from sklearn.preprocessing import StandardScaler\n",
    "from sklearn.pipeline import make_pipeline\n",
    "from sklearn.svm import SVR\n",
    "from sklearn.metrics import r2_score\n",
    "from lazypredict.Supervised import LazyRegressor\n",
    "from sklearn.linear_model import LinearRegression"
   ]
  },
  {
   "cell_type": "markdown",
   "id": "a7f5f83b",
   "metadata": {},
   "source": [
    "### 1.2. Load bộ dữ liệu"
   ]
  },
  {
   "cell_type": "code",
   "execution_count": 2,
   "id": "f5c00b2e",
   "metadata": {},
   "outputs": [],
   "source": [
    "# Đường dẫn đến các tập dữ liệu\n",
    "WECODE_DATASET = \"../dataset/wecode/annonimized.csv\"\n",
    "QT_DATASET = \"../dataset/wecode/qt-public.csv\"\n",
    "TH_DATASET = \"../dataset/wecode/th-public.csv\"\n",
    "CK_DATASET = \"../dataset/wecode/ck-public.csv\""
   ]
  },
  {
   "cell_type": "code",
   "execution_count": 3,
   "id": "5d6570e8",
   "metadata": {},
   "outputs": [],
   "source": [
    "wecode_df = pd.read_csv(WECODE_DATASET).rename(\n",
    "    columns={\n",
    "        \"concat('it001',`assignment_id`)\": \"assignment_id\",\n",
    "        \"concat('it001',`problem_id`)\": \"problem_id\",\n",
    "        \"concat('it001', username)\": \"username\",\n",
    "        \"concat('it001',`language_id`)\": \"language_id\",\n",
    "    }\n",
    ")\n",
    "\n",
    "qt_df = pd.read_csv(QT_DATASET).rename(columns={\"hash\": \"username\", \"diemqt\": \"QT\"})\n",
    "th_df = pd.read_csv(TH_DATASET).rename(columns={\"hash\": \"username\"})\n",
    "ck_df = pd.read_csv(CK_DATASET).rename(columns={\"hash\": \"username\"})"
   ]
  },
  {
   "cell_type": "markdown",
   "id": "36d893c0",
   "metadata": {},
   "source": [
    "### 1.3. Thông tin bộ dữ liệu"
   ]
  },
  {
   "cell_type": "markdown",
   "id": "cdd7ea5e",
   "metadata": {},
   "source": [
    "#### 1.3.1. Thông tin bộ dữ liệu làm bài tập Wecode của sinh viên"
   ]
  },
  {
   "cell_type": "code",
   "execution_count": 4,
   "id": "191a0556",
   "metadata": {},
   "outputs": [],
   "source": [
    "wecode_df.head(10)"
   ]
  },
  {
   "cell_type": "code",
   "execution_count": 5,
   "id": "a483e8c3",
   "metadata": {},
   "outputs": [],
   "source": [
    "wecode_df.info()"
   ]
  },
  {
   "cell_type": "code",
   "execution_count": 6,
   "id": "79ff3e74",
   "metadata": {},
   "outputs": [],
   "source": [
    "wecode_df.nunique()"
   ]
  },
  {
   "cell_type": "markdown",
   "id": "12889ef4",
   "metadata": {},
   "source": [
    "Từ thông tin trên thì ta có thể nhận thấy ngay bộ dữ liệu không hề có cột nào bị bỏ trống (tất cả các cột đều có 295198 giá trị là non-null), nên ta không cần phải xử lí dữ liệu khuyết thiết cho dữ liệu này. "
   ]
  },
  {
   "cell_type": "markdown",
   "id": "217fecb9",
   "metadata": {},
   "source": [
    "Những ta dễ thấy, các đặc trưng của dữ liệu này không mang giá trị đánh giá chung về khả năng của sinh viên, mà nó chỉ chứa thông tin về những lần nộp bài wecode của sinh viên một các rời rạc, lẻ tẻ. Vì vậy, chúng cần phải được tổng hợp lại và thay thế bằng những đặc trưng mới có giá trị đánh giá hoạt động học tập của sinh viên (ví dụ: tổng điểm của các bài wecode, số lần thử nộp bài, số bài đã giải, ...). Và từ đó ta có thể xây dựng các mô hình dự đoán điểm quá trình, thực hành và cuối kì dựa trên các đặc trưng mới này hiệu quả hơn."
   ]
  },
  {
   "cell_type": "markdown",
   "id": "8a8e852c",
   "metadata": {},
   "source": [
    "#### 1.3.2. Thông tin bộ dữ liệu điểm của sinh viên"
   ]
  },
  {
   "cell_type": "code",
   "execution_count": 7,
   "id": "c1f0b81b",
   "metadata": {},
   "outputs": [],
   "source": [
    "qt_df.head(10)"
   ]
  },
  {
   "cell_type": "code",
   "execution_count": 8,
   "id": "e3a48383",
   "metadata": {},
   "outputs": [],
   "source": [
    "qt_df.info()"
   ]
  },
  {
   "cell_type": "code",
   "execution_count": 9,
   "id": "14324f34",
   "metadata": {},
   "outputs": [],
   "source": [
    "qt_df.nunique()"
   ]
  },
  {
   "cell_type": "code",
   "execution_count": 10,
   "id": "191edb16",
   "metadata": {},
   "outputs": [],
   "source": [
    "th_df.head(10)"
   ]
  },
  {
   "cell_type": "code",
   "execution_count": 11,
   "id": "728715a3",
   "metadata": {},
   "outputs": [],
   "source": [
    "th_df.info()"
   ]
  },
  {
   "cell_type": "code",
   "execution_count": 12,
   "id": "5d28961a",
   "metadata": {},
   "outputs": [],
   "source": [
    "th_df.nunique()"
   ]
  },
  {
   "cell_type": "code",
   "execution_count": 13,
   "id": "bea4e0c5",
   "metadata": {},
   "outputs": [],
   "source": [
    "ck_df.head(10)"
   ]
  },
  {
   "cell_type": "code",
   "execution_count": 14,
   "id": "ea075fa4",
   "metadata": {},
   "outputs": [],
   "source": [
    "ck_df.info()"
   ]
  },
  {
   "cell_type": "code",
   "execution_count": 15,
   "id": "0a0415bf",
   "metadata": {},
   "outputs": [],
   "source": [
    "ck_df.nunique()"
   ]
  },
  {
   "cell_type": "markdown",
   "id": "614bcaed",
   "metadata": {},
   "source": [
    "Từ thông tin của 3 dataframe điểm trên, ta có thể thấy những thông tin sau:\n",
    "- Cả 3 dataframe đều có 761 `username` non-null và khác nhau\n",
    "- Cả 3 dataframe có cột điểm chỉ có 755/761 giá trị là non-null"
   ]
  },
  {
   "cell_type": "code",
   "execution_count": 16,
   "id": "163d4a83",
   "metadata": {},
   "outputs": [],
   "source": [
    "print(\n",
    "    \"Number of similar usernames between qt_df and th_df: \"\n",
    "    + str(sum(qt_df[\"username\"] == th_df[\"username\"]))\n",
    ")\n",
    "print(\n",
    "    \"Number of similar usernames between qt_df and ck_df: \"\n",
    "    + str(sum(qt_df[\"username\"] == ck_df[\"username\"]))\n",
    ")"
   ]
  },
  {
   "cell_type": "markdown",
   "id": "85c61773",
   "metadata": {},
   "source": [
    "Nhận thấy cả 3 dataframe chứa điểm quá trình, thực hành, cuối kì của cùng 761 sinh viên, vậy nên ta có thể hợp nhất cả 3 dataframe được load riêng lẻ thành 1 dataframe duy nhất dể tiện hơn trong việc thao tác. Và sẵn tiện ta có thể tính toán luôn cột `TBTL` từ 3 cột loại điểm trên"
   ]
  },
  {
   "cell_type": "code",
   "execution_count": 17,
   "id": "0c7d567e",
   "metadata": {},
   "outputs": [],
   "source": [
    "# Hợp nhất điểm từ 3 dataframe thành 1 dataframe score_df duy nhất\n",
    "score_df = pd.merge(\n",
    "    pd.merge(qt_df, th_df, on=\"username\", how=\"inner\"),\n",
    "    ck_df,\n",
    "    on=\"username\",\n",
    "    how=\"inner\",\n",
    ")\n",
    "score_df[\"QT\"] = pd.to_numeric(score_df[\"QT\"], errors=\"coerce\")\n",
    "score_df[\"TH\"] = pd.to_numeric(score_df[\"TH\"], errors=\"coerce\")\n",
    "score_df[\"CK\"] = pd.to_numeric(score_df[\"CK\"], errors=\"coerce\")"
   ]
  },
  {
   "cell_type": "markdown",
   "id": "6a567f52",
   "metadata": {},
   "source": [
    "### 1.4. Xử lí dữ liệu khuyết thiếu"
   ]
  },
  {
   "cell_type": "markdown",
   "id": "d5971bea",
   "metadata": {},
   "source": [
    "Đối với `wecode_df` thì hoàn toàn không hề có dữ liệu khuyết thiếu. Bây giờ, ta xem xét những hàng bị bỏ trống (NaN) trong `score_df` để thực hiện lọc hoặc lấp đầy chúng, tránh lỗi trong quá trình thao tác."
   ]
  },
  {
   "cell_type": "code",
   "execution_count": 18,
   "id": "e2c5c66f",
   "metadata": {},
   "outputs": [],
   "source": [
    "score_df[(score_df[\"QT\"].isna()) | (score_df[\"TH\"].isna()) | (score_df[\"CK\"].isna())]"
   ]
  },
  {
   "cell_type": "markdown",
   "id": "d5e6ca11",
   "metadata": {},
   "source": [
    "Ta dễ dàng nhận thấy rằng chỉ có 6 `username` có ít nhất 1 trong 3 cột bị bỏ trống (NaN), và thực chất là cả 3 cột đều bị bỏ trống. Vì vậy ta có thể loại những `username` này ra khỏi dataframe `score_df`."
   ]
  },
  {
   "cell_type": "code",
   "execution_count": 19,
   "id": "0f50ca83",
   "metadata": {},
   "outputs": [],
   "source": [
    "# Xử lý lọc dữ liệu không hợp lệ\n",
    "score_df = score_df.dropna()"
   ]
  },
  {
   "cell_type": "markdown",
   "id": "206d7888",
   "metadata": {},
   "source": [
    "Sau khi loại bỏ NaN thì kết quả dataframe `score_df` thu được chứa 755 dòng đều non-null:"
   ]
  },
  {
   "cell_type": "code",
   "execution_count": 20,
   "id": "38ffb454",
   "metadata": {},
   "outputs": [],
   "source": [
    "score_df.info()"
   ]
  },
  {
   "cell_type": "markdown",
   "id": "8c2ebd7e",
   "metadata": {},
   "source": [
    "## 2. Trích xuất đặc trưng và tiền xử lí dữ liệu mới"
   ]
  },
  {
   "cell_type": "markdown",
   "id": "6af0a8a8",
   "metadata": {},
   "source": [
    "### 2.1. Trích xuất đặc trưng từ dữ liệu gốc"
   ]
  },
  {
   "cell_type": "markdown",
   "id": "34c58273",
   "metadata": {},
   "source": [
    "Như đã phân tích ở phần 1 thì tập dữ liệu wecode hiện tại không thể được dùng trực tiếp để đánh giá năng lực học tập của sinh viên. Nó là một bản ghi log thông tin các lần nộp bài của sinh viên trên wecode. Do đó, cần phải tổng hợp các đặc trưng hiện tại và trích xuất ra thành các đặt trưng mới có giá trị đánh giá năng lực học tập của sinh viên hơn."
   ]
  },
  {
   "cell_type": "markdown",
   "id": "b36231c0",
   "metadata": {},
   "source": [
    "Từ tập dữ liệu wecode trên, một số đặc trưng mới có thể trích xuất từ các đặc trưng hiện tại có thể kể đến đó là:\n",
    "- Tổng số lần nộp bài (`submissions`)\n",
    "- Tổng số lần thử đúng (`correct_submissions`)\n",
    "- Tổng số vấn đề đã thử giải (`tried_problems`)\n",
    "- Tổng số vấn đề đã giải (`solved_problems`)\n",
    "- Tổng điểm của tất cả các lần nộp (`total_submissions_score`)\n",
    "- Tổng điểm cuối cùng (`total_final_score`)"
   ]
  },
  {
   "cell_type": "code",
   "execution_count": 21,
   "id": "7d25feb7",
   "metadata": {},
   "outputs": [],
   "source": [
    "wecode_df[\"coef_score\"] = wecode_df[\"pre_score\"] * wecode_df[\"coefficient\"] / 100\n",
    "\n",
    "wecode_df[\"final_score\"] = wecode_df[\"is_final\"] * wecode_df[\"coef_score\"]\n",
    "\n",
    "wecode_df[\"is_final_solution\"] = wecode_df[\"is_final\"] * (\n",
    "    wecode_df[\"pre_score\"] == 10000\n",
    ")\n",
    "\n",
    "extracted_wecode_df = (\n",
    "    wecode_df.groupby(\"username\")\n",
    "    .agg(\n",
    "        submissions=(\"username\", \"size\"),\n",
    "        correct_submissions=(\"pre_score\", lambda x: sum(x == 10000)),\n",
    "        tried_problems=(\"is_final\", \"sum\"),\n",
    "        solved_problems=(\"is_final_solution\", \"sum\"),\n",
    "        total_submissions_score=(\"coef_score\", \"sum\"),\n",
    "        total_final_score=(\n",
    "            \"final_score\",\n",
    "            \"sum\",\n",
    "        ),\n",
    "    )\n",
    "    .reset_index()\n",
    ")\n",
    "\n",
    "extracted_wecode_df.head(10)"
   ]
  },
  {
   "cell_type": "markdown",
   "id": "fa8c17fc",
   "metadata": {},
   "source": [
    "Thế nhưng, những đặc trưng đó chưa đủ để đánh giá năng lực của sinh viên, nên ta cần phải biến đổi thêm một lần nữa để thu về những đặc trưng có giá trị đánh giá tốt hơn:\n",
    "- Trung bình số lần thử trên mỗi vấn đề (`submissions/problem`)\n",
    "- Tỉ lệ đúng của mỗi lần thử (`accuracy`)\n",
    "- Trung bình điểm trên mỗi vấn đề (`score/problem`)\n",
    "- Trung bình điểm trên mỗi lần thử (`score/submission`)"
   ]
  },
  {
   "cell_type": "code",
   "execution_count": 22,
   "id": "8873fcf4",
   "metadata": {},
   "outputs": [],
   "source": [
    "extracted_wecode_df[\"submissions/problem\"] = (\n",
    "    extracted_wecode_df[\"submissions\"] / extracted_wecode_df[\"tried_problems\"]\n",
    ")\n",
    "extracted_wecode_df[\"accuracy\"] = (\n",
    "    extracted_wecode_df[\"correct_submissions\"] / extracted_wecode_df[\"submissions\"]\n",
    ")\n",
    "extracted_wecode_df[\"score/problem\"] = (\n",
    "    extracted_wecode_df[\"total_final_score\"] / extracted_wecode_df[\"tried_problems\"]\n",
    ")\n",
    "extracted_wecode_df[\"score/submission\"] = (\n",
    "    extracted_wecode_df[\"total_submissions_score\"] / extracted_wecode_df[\"submissions\"]\n",
    ")\n",
    "extracted_wecode_df.head(10)"
   ]
  },
  {
   "cell_type": "markdown",
   "id": "beb3a6d2",
   "metadata": {},
   "source": [
    "### 2.2. Xử lí dữ liệu khuyết thiếu"
   ]
  },
  {
   "cell_type": "code",
   "execution_count": 23,
   "id": "bb361410",
   "metadata": {},
   "outputs": [],
   "source": [
    "extracted_wecode_df.dropna(inplace=True)"
   ]
  },
  {
   "cell_type": "markdown",
   "id": "84677e5a",
   "metadata": {},
   "source": [
    "### 2.3. Xử lí chuẩn hóa dữ liệu"
   ]
  },
  {
   "cell_type": "code",
   "execution_count": 24,
   "id": "c8eec6bf",
   "metadata": {},
   "outputs": [],
   "source": [
    "# scaler = StandardScaler()\n",
    "\n",
    "# for col in extracted_wecode_df.columns[1:]:\n",
    "#     extracted_wecode_df[col] = scaler.fit_transform(extracted_wecode_df[[col]])"
   ]
  },
  {
   "cell_type": "markdown",
   "id": "3897f80a",
   "metadata": {},
   "source": [
    "### 2.3. Hợp nhất tập dữ liệu điểm và tập dữ liệu wecode để hình thành tập huấn luyện cho mô hình"
   ]
  },
  {
   "cell_type": "code",
   "execution_count": 25,
   "id": "5ad5f9c5",
   "metadata": {},
   "outputs": [],
   "source": [
    "data_df = pd.merge(\n",
    "    extracted_wecode_df,\n",
    "    score_df,\n",
    "    on=\"username\",\n",
    "    how=\"inner\",\n",
    ")\n",
    "data_df.head(10)"
   ]
  },
  {
   "cell_type": "code",
   "execution_count": 26,
   "id": "8a4508f3",
   "metadata": {},
   "outputs": [],
   "source": [
    "data_df.info()"
   ]
  },
  {
   "cell_type": "markdown",
   "id": "443486ca",
   "metadata": {},
   "source": [
    "## 3. Phân tích dữ liệu"
   ]
  },
  {
   "cell_type": "markdown",
   "id": "f0581a00",
   "metadata": {},
   "source": [
    "### Tính toán correlation"
   ]
  },
  {
   "cell_type": "code",
   "execution_count": 27,
   "id": "837064e1",
   "metadata": {},
   "outputs": [],
   "source": [
    "feature_cols = data_df.columns[1:-4]\n",
    "point_cols = data_df.columns[-4:]\n",
    "\n",
    "correlation_matrix = (\n",
    "    data_df[feature_cols].corrwith(data_df[point_cols[0]]).to_frame(name=point_cols[0])\n",
    ")\n",
    "for point_col in point_cols[1:]:\n",
    "    correlation_matrix[point_col] = data_df[feature_cols].corrwith(data_df[point_col])\n",
    "\n",
    "\n",
    "print(\"Correlation matrix:\")\n",
    "print(correlation_matrix)\n",
    "\n",
    "correlation_matrix.plot(\n",
    "    kind=\"bar\", figsize=(10, 6), title=\"Correlation between Features and Points\"\n",
    ")\n",
    "plt.xlabel(\"Features\")\n",
    "plt.ylabel(\"Correlation\")\n",
    "plt.xticks(rotation=45)\n",
    "plt.tight_layout()\n",
    "plt.show()"
   ]
  },
  {
   "cell_type": "markdown",
   "id": "86930c14",
   "metadata": {},
   "source": [
    "Từ kết quả về hệ số tương quan Pearson (Pearson correlation) giữa các đặc trưng và các loại điểm, ta có thể thấy được ngay\n",
    "- Hệ số tương quan giữa 6 đặc trưng đầu với điểm TH có giá trị tuyệt đối > 0.3. Do đó, có thể dùng mô hình hồi quy tuyến tính (linear regression) với 6 đặc trưng đầu để đánh giá điểm TH\n",
    "- Các hệ số tương quan còn lại có giá trị tuyến đối khá nhỏ (< 0.2), vậy nên cần tìm 1 không tuyến tính để dự đoán điểm dựa trên các đặc trưng hiện có"
   ]
  },
  {
   "cell_type": "code",
   "execution_count": 28,
   "id": "a2c7b1d9",
   "metadata": {},
   "outputs": [],
   "source": [
    "fig, axes = plt.subplots(\n",
    "    len(feature_cols), len(point_cols), figsize=(15, 30), sharey=True\n",
    ")\n",
    "\n",
    "for i, feature_col in enumerate(feature_cols):\n",
    "    for j, point_col in enumerate(point_cols):\n",
    "        axes[i, j].scatter(data_df[feature_col], data_df[point_col], alpha=0.5)\n",
    "        axes[i, j].set_title(f\"{feature_col} vs {point_col}\")\n",
    "        axes[i, j].set_xlabel(feature_col)\n",
    "        axes[i, j].set_ylabel(point_col)\n",
    "\n",
    "plt.tight_layout()\n",
    "plt.show()"
   ]
  },
  {
   "cell_type": "markdown",
   "id": "514d1bee",
   "metadata": {},
   "source": [
    "## 4. Huấn luyện mô hình dự đoán"
   ]
  },
  {
   "cell_type": "code",
   "execution_count": 29,
   "id": "4abd0679",
   "metadata": {},
   "outputs": [],
   "source": [
    "OUTPUT_DIR = \"../output/wecode/\""
   ]
  },
  {
   "cell_type": "markdown",
   "id": "5cb1834c",
   "metadata": {},
   "source": [
    "### 4.1. Huấn luyện mô hình dự đoán điểm quá trình (QT)"
   ]
  },
  {
   "cell_type": "code",
   "execution_count": null,
   "id": "e56b2687",
   "metadata": {},
   "outputs": [],
   "source": [
    "qt_feature_cols = feature_cols\n",
    "\n",
    "X = data_df[qt_feature_cols]\n",
    "y = data_df[\"QT\"]\n",
    "\n",
    "X_train, X_test, y_train, y_test = train_test_split(\n",
    "    X, y, test_size=0.1, random_state=42\n",
    ")"
   ]
  },
  {
   "cell_type": "code",
   "execution_count": null,
   "id": "74b153a4",
   "metadata": {},
   "outputs": [],
   "source": [
    "from sklearn.model_selection import GridSearchCV\n",
    "from sklearn.ensemble import RandomForestRegressor\n",
    "from sklearn.ensemble import GradientBoostingRegressor\n",
    "\n",
    "param_grids = {\n",
    "    \"rf\": {\n",
    "        \"n_estimators\": [100, 200, 300],\n",
    "        \"max_depth\": [10, 15, None],\n",
    "        \"min_samples_split\": [2, 5, 10],\n",
    "        \"min_samples_leaf\": [1, 2, 4],\n",
    "        \"max_features\": [\"sqrt\", \"log2\"],\n",
    "    },\n",
    "    \"xgb\": {\n",
    "        \"n_estimators\": [100, 200],\n",
    "        \"max_depth\": [3, 4],\n",
    "        \"min_samples_split\": [2, 5],\n",
    "        \"min_samples_leaf\": [1, 2],\n",
    "        \"learning_rate\": [0.01, 0.05],\n",
    "    },\n",
    "}\n",
    "\n",
    "qt_models = {\n",
    "    \"rf\": GridSearchCV(\n",
    "        RandomForestRegressor(random_state=42),\n",
    "        param_grids[\"rf\"],\n",
    "        cv=5,\n",
    "        n_jobs=-1,\n",
    "        scoring=\"r2\",\n",
    "    ),\n",
    "    \"xgb\": GridSearchCV(\n",
    "        estimator=GradientBoostingRegressor(random_state=42),\n",
    "        param_grid=param_grids[\"xgb\"],\n",
    "        scoring=\"r2\",\n",
    "        cv=5,\n",
    "        n_jobs=-1,\n",
    "        verbose=1,\n",
    "    ),\n",
    "}"
   ]
  },
  {
   "cell_type": "code",
   "execution_count": 32,
   "id": "816ae73f",
   "metadata": {},
   "outputs": [],
   "source": [
    "y_pred = np.clip(qt_model.predict(X_test), 0, 10)\n",
    "\n",
    "r2 = r2_score(y_test, y_pred)\n",
    "print(f\"R^2 score for predicting TH: {r2}\")\n",
    "\n",
    "# Plotting actual vs predicted values\n",
    "plt.figure(figsize=(10, 6))\n",
    "plt.scatter(y_test, y_pred, alpha=0.5)\n",
    "plt.plot(\n",
    "    [y_test.min(), y_test.max()],\n",
    "    [y_test.min(), y_test.max()],\n",
    "    \"r--\",\n",
    "    lw=2,\n",
    "    label=\"Perfect Prediction\",\n",
    ")\n",
    "plt.title(\"Actual vs. Predicted QT Scores\")\n",
    "plt.xlabel(\"Actual QT Score\")\n",
    "plt.ylabel(\"Predicted QT Score\")\n",
    "plt.legend()\n",
    "plt.grid(True)\n",
    "plt.show()"
   ]
  },
  {
   "cell_type": "code",
   "execution_count": 34,
   "id": "f936ef4a",
   "metadata": {},
   "outputs": [],
   "source": [
    "X = extracted_wecode_df[qt_feature_cols]\n",
    "y_pred_qt = np.clip(qt_model.predict(X), 0, 10)\n",
    "predictions_df = pd.DataFrame(\n",
    "    {\"username\": extracted_wecode_df[\"username\"], \"Predicted_QT\": y_pred_qt}\n",
    ")\n",
    "predictions_df.to_csv(f\"{OUTPUT_DIR}qt_predictions.csv\", index=False)"
   ]
  },
  {
   "cell_type": "markdown",
   "id": "234bac71",
   "metadata": {},
   "source": [
    "### 4.2. Huấn luyện mô hình dự đoán điểm thực hành (TH)"
   ]
  },
  {
   "cell_type": "code",
   "execution_count": 35,
   "id": "5a9a2e02",
   "metadata": {},
   "outputs": [],
   "source": [
    "th_feature_cols = feature_cols\n",
    "\n",
    "\n",
    "X = data_df[th_feature_cols]\n",
    "y = data_df[\"TH\"]\n",
    "\n",
    "X_train, X_test, y_train, y_test = train_test_split(\n",
    "    X, y, test_size=0.1, random_state=42\n",
    ")"
   ]
  },
  {
   "cell_type": "code",
   "execution_count": 36,
   "id": "26828fd7",
   "metadata": {},
   "outputs": [],
   "source": [
    "th_model = LinearRegression()\n",
    "th_model.fit(X_train, y_train)"
   ]
  },
  {
   "cell_type": "code",
   "execution_count": 37,
   "id": "6004abd1",
   "metadata": {},
   "outputs": [],
   "source": [
    "y_pred = np.clip(th_model.predict(X_test), 0, 10)\n",
    "\n",
    "r2 = r2_score(y_test, y_pred)\n",
    "print(f\"R^2 score for predicting TH: {r2}\")\n",
    "\n",
    "# Plotting actual vs predicted values\n",
    "plt.figure(figsize=(10, 6))\n",
    "plt.scatter(y_test, y_pred, alpha=0.5)\n",
    "plt.plot(\n",
    "    [y_test.min(), y_test.max()],\n",
    "    [y_test.min(), y_test.max()],\n",
    "    \"r--\",\n",
    "    lw=2,\n",
    "    label=\"Perfect Prediction\",\n",
    ")\n",
    "plt.title(\"Actual vs. Predicted TH Scores\")\n",
    "plt.xlabel(\"Actual TH Score\")\n",
    "plt.ylabel(\"Predicted TH Score\")\n",
    "plt.legend()\n",
    "plt.grid(True)\n",
    "plt.show()"
   ]
  },
  {
   "cell_type": "code",
   "execution_count": 38,
   "id": "5639ddff",
   "metadata": {},
   "outputs": [],
   "source": [
    "X = extracted_wecode_df[th_feature_cols]\n",
    "y_pred_th = np.clip(th_model.predict(X), 0, 10)\n",
    "predictions_df = pd.DataFrame(\n",
    "    {\"username\": extracted_wecode_df[\"username\"], \"predicted_TH\": y_pred_th}\n",
    ")\n",
    "predictions_df.to_csv(f\"{OUTPUT_DIR}th_predictions.csv\", index=False)\n",
    "print(\"Predictions saved to th_predictions.csv\")"
   ]
  },
  {
   "cell_type": "markdown",
   "id": "3a706ab8",
   "metadata": {},
   "source": [
    "### 4.3. Huấn luyện mô hình dự đoán điểm cuối kì (CK)"
   ]
  }
 ],
 "metadata": {
  "kernelspec": {
   "display_name": "Python 3",
   "language": "python",
   "name": "python3"
  },
  "language_info": {
   "codemirror_mode": {
    "name": "ipython",
    "version": 3
   },
   "file_extension": ".py",
   "mimetype": "text/x-python",
   "name": "python",
   "nbconvert_exporter": "python",
   "pygments_lexer": "ipython3",
   "version": "3.13.3"
  }
 },
 "nbformat": 4,
 "nbformat_minor": 5
}
