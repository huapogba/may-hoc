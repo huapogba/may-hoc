{
 "cells": [
  {
   "cell_type": "markdown",
   "id": "1fe85115",
   "metadata": {},
   "source": [
    "<h1 style=\"text-align: center;\"> FINAL PROJECT </h1>\n",
    "<h2 style=\"text-align: center;\"> Dự đoán điểm IT001 từ dữ liệu làm bài trên WECODE </h2>"
   ]
  },
  {
   "cell_type": "markdown",
   "id": "0bda1c31",
   "metadata": {},
   "source": [
    "---"
   ]
  },
  {
   "cell_type": "markdown",
   "id": "78dfa27b",
   "metadata": {},
   "source": [
    "#### Lớp: CS114.P21"
   ]
  },
  {
   "cell_type": "markdown",
   "id": "dda6ff21",
   "metadata": {},
   "source": [
    "#### Thành viên nhóm"
   ]
  },
  {
   "cell_type": "markdown",
   "id": "f2490591",
   "metadata": {},
   "source": [
    "1. Nguyễn Chí Cường - 23520199\n",
    "2. Hứa Mạnh Tân - 23521396\n",
    "3. Nguyễn Tấn Tài - 23521376"
   ]
  },
  {
   "cell_type": "markdown",
   "id": "00f73200",
   "metadata": {},
   "source": [
    "#### MỤC LỤC"
   ]
  },
  {
   "cell_type": "markdown",
   "id": "ca1159d1",
   "metadata": {},
   "source": [
    "---"
   ]
  },
  {
   "cell_type": "markdown",
   "id": "f791591c",
   "metadata": {},
   "source": [
    "## 1. Chuẩn bị dữ liệu và một số thông tin về bộ dữ liệu"
   ]
  },
  {
   "cell_type": "markdown",
   "id": "28ff4ee8",
   "metadata": {},
   "source": [
    "### 1.1. Import thư viện cần thiết"
   ]
  },
  {
   "cell_type": "code",
   "execution_count": 1,
   "id": "3cf054de",
   "metadata": {},
   "outputs": [],
   "source": [
    "import numpy as np\n",
    "import pandas as pd\n",
    "import matplotlib.pyplot as plt"
   ]
  },
  {
   "cell_type": "markdown",
   "id": "a7f5f83b",
   "metadata": {},
   "source": [
    "### 1.2. Load bộ dữ liệu"
   ]
  },
  {
   "cell_type": "code",
   "execution_count": 2,
   "id": "f5c00b2e",
   "metadata": {},
   "outputs": [],
   "source": [
    "# Đường dẫn đến các tập dữ liệu\n",
    "WECODE_DATASET = \"../dataset/wecode/annonimized.csv\"\n",
    "QT_DATASET = \"../dataset/wecode/qt-public.csv\"\n",
    "TH_DATASET = \"../dataset/wecode/th-public.csv\"\n",
    "CK_DATASET = \"../dataset/wecode/ck-public.csv\""
   ]
  },
  {
   "cell_type": "code",
   "execution_count": 3,
   "id": "5d6570e8",
   "metadata": {},
   "outputs": [],
   "source": [
    "wecode_df = pd.read_csv(WECODE_DATASET).rename(\n",
    "    columns={\n",
    "        \"concat('it001',`assignment_id`)\": \"assignment_id\",\n",
    "        \"concat('it001',`problem_id`)\": \"problem_id\",\n",
    "        \"concat('it001', username)\": \"username\",\n",
    "        \"concat('it001',`language_id`)\": \"language_id\",\n",
    "    }\n",
    ")\n",
    "\n",
    "qt_df = pd.read_csv(QT_DATASET).rename(columns={\"hash\": \"username\", \"diemqt\": \"QT\"})\n",
    "th_df = pd.read_csv(TH_DATASET).rename(columns={\"hash\": \"username\"})\n",
    "ck_df = pd.read_csv(CK_DATASET).rename(columns={\"hash\": \"username\"})"
   ]
  },
  {
   "cell_type": "markdown",
   "id": "36d893c0",
   "metadata": {},
   "source": [
    "### 1.3. Thông tin bộ dữ liệu"
   ]
  },
  {
   "cell_type": "markdown",
   "id": "cdd7ea5e",
   "metadata": {},
   "source": [
    "#### 1.3.1. Thông tin bộ dữ liệu làm bài tập Wecode của sinh viên"
   ]
  },
  {
   "cell_type": "code",
   "execution_count": 4,
   "id": "191a0556",
   "metadata": {},
   "outputs": [
    {
     "data": {
      "text/html": [
       "<div>\n",
       "<style scoped>\n",
       "    .dataframe tbody tr th:only-of-type {\n",
       "        vertical-align: middle;\n",
       "    }\n",
       "\n",
       "    .dataframe tbody tr th {\n",
       "        vertical-align: top;\n",
       "    }\n",
       "\n",
       "    .dataframe thead th {\n",
       "        text-align: right;\n",
       "    }\n",
       "</style>\n",
       "<table border=\"1\" class=\"dataframe\">\n",
       "  <thead>\n",
       "    <tr style=\"text-align: right;\">\n",
       "      <th></th>\n",
       "      <th>assignment_id</th>\n",
       "      <th>problem_id</th>\n",
       "      <th>username</th>\n",
       "      <th>is_final</th>\n",
       "      <th>status</th>\n",
       "      <th>pre_score</th>\n",
       "      <th>coefficient</th>\n",
       "      <th>language_id</th>\n",
       "      <th>created_at</th>\n",
       "      <th>updated_at</th>\n",
       "      <th>judgement</th>\n",
       "    </tr>\n",
       "  </thead>\n",
       "  <tbody>\n",
       "    <tr>\n",
       "      <th>0</th>\n",
       "      <td>90ce27571176d87961b565d5ef4b3de33ede04ac</td>\n",
       "      <td>789454427dd4097a14749e3dde63346b7a8d3811</td>\n",
       "      <td>ed9eaeb6a707f50154024b24d7efcb874a9795dd</td>\n",
       "      <td>0</td>\n",
       "      <td>SCORE</td>\n",
       "      <td>0</td>\n",
       "      <td>100</td>\n",
       "      <td>it0012</td>\n",
       "      <td>10-09 08:02:04</td>\n",
       "      <td>10-09 08:06:58</td>\n",
       "      <td>{\"times\":[0,0,0,0,0,0,0,0,0,0],\"mems\":[0,0,0,0...</td>\n",
       "    </tr>\n",
       "    <tr>\n",
       "      <th>1</th>\n",
       "      <td>90ce27571176d87961b565d5ef4b3de33ede04ac</td>\n",
       "      <td>789454427dd4097a14749e3dde63346b7a8d3811</td>\n",
       "      <td>ed9eaeb6a707f50154024b24d7efcb874a9795dd</td>\n",
       "      <td>0</td>\n",
       "      <td>SCORE</td>\n",
       "      <td>0</td>\n",
       "      <td>100</td>\n",
       "      <td>it0012</td>\n",
       "      <td>10-09 08:04:41</td>\n",
       "      <td>10-09 08:04:51</td>\n",
       "      <td>{\"times\":[0,0,0,0,0,0,0,0,0,0],\"mems\":[0,0,0,0...</td>\n",
       "    </tr>\n",
       "    <tr>\n",
       "      <th>2</th>\n",
       "      <td>90ce27571176d87961b565d5ef4b3de33ede04ac</td>\n",
       "      <td>789454427dd4097a14749e3dde63346b7a8d3811</td>\n",
       "      <td>ed9eaeb6a707f50154024b24d7efcb874a9795dd</td>\n",
       "      <td>1</td>\n",
       "      <td>SCORE</td>\n",
       "      <td>10000</td>\n",
       "      <td>100</td>\n",
       "      <td>it0012</td>\n",
       "      <td>10-09 08:06:49</td>\n",
       "      <td>10-09 08:06:58</td>\n",
       "      <td>{\"times\":[0,0,0,0,0,0,0,0,0,0],\"mems\":[0,0,0,0...</td>\n",
       "    </tr>\n",
       "    <tr>\n",
       "      <th>3</th>\n",
       "      <td>90ce27571176d87961b565d5ef4b3de33ede04ac</td>\n",
       "      <td>bf96fbdc5f499538c3e2bfbec5779c8a14b0a9ff</td>\n",
       "      <td>ed9eaeb6a707f50154024b24d7efcb874a9795dd</td>\n",
       "      <td>1</td>\n",
       "      <td>SCORE</td>\n",
       "      <td>10000</td>\n",
       "      <td>100</td>\n",
       "      <td>it0012</td>\n",
       "      <td>10-09 08:47:52</td>\n",
       "      <td>10-09 08:48:01</td>\n",
       "      <td>{\"times\":[0,0,0,0,0,0,0,0,0,0],\"mems\":[0,0,0,0...</td>\n",
       "    </tr>\n",
       "    <tr>\n",
       "      <th>4</th>\n",
       "      <td>90ce27571176d87961b565d5ef4b3de33ede04ac</td>\n",
       "      <td>7a6e5ca470ff47c3b5048f240c4738de71010c78</td>\n",
       "      <td>ed9eaeb6a707f50154024b24d7efcb874a9795dd</td>\n",
       "      <td>1</td>\n",
       "      <td>SCORE</td>\n",
       "      <td>10000</td>\n",
       "      <td>100</td>\n",
       "      <td>it0012</td>\n",
       "      <td>10-09 09:19:35</td>\n",
       "      <td>10-09 09:19:45</td>\n",
       "      <td>{\"times\":[0,0,0,0,0,0,0,0,0,0],\"mems\":[0,0,0,0...</td>\n",
       "    </tr>\n",
       "    <tr>\n",
       "      <th>5</th>\n",
       "      <td>90ce27571176d87961b565d5ef4b3de33ede04ac</td>\n",
       "      <td>d6a5bdd7f7f32364f4743854ef3b5369c0706677</td>\n",
       "      <td>ed9eaeb6a707f50154024b24d7efcb874a9795dd</td>\n",
       "      <td>0</td>\n",
       "      <td>Compilation Error</td>\n",
       "      <td>0</td>\n",
       "      <td>100</td>\n",
       "      <td>it0012</td>\n",
       "      <td>10-09 09:29:03</td>\n",
       "      <td>10-09 09:30:08</td>\n",
       "      <td>{\"times\":[],\"mems\":[],\"verdicts\":{\"\\n\\nIn func...</td>\n",
       "    </tr>\n",
       "    <tr>\n",
       "      <th>6</th>\n",
       "      <td>90ce27571176d87961b565d5ef4b3de33ede04ac</td>\n",
       "      <td>d6a5bdd7f7f32364f4743854ef3b5369c0706677</td>\n",
       "      <td>ed9eaeb6a707f50154024b24d7efcb874a9795dd</td>\n",
       "      <td>1</td>\n",
       "      <td>SCORE</td>\n",
       "      <td>10000</td>\n",
       "      <td>100</td>\n",
       "      <td>it0012</td>\n",
       "      <td>10-09 09:29:58</td>\n",
       "      <td>10-09 09:30:08</td>\n",
       "      <td>{\"times\":[0,0,0,0,0,0,0,0,0,0],\"mems\":[0,0,0,0...</td>\n",
       "    </tr>\n",
       "    <tr>\n",
       "      <th>7</th>\n",
       "      <td>90ce27571176d87961b565d5ef4b3de33ede04ac</td>\n",
       "      <td>8b15ab090e1e8ec3284cf78746d94ffa00bd201b</td>\n",
       "      <td>ed9eaeb6a707f50154024b24d7efcb874a9795dd</td>\n",
       "      <td>0</td>\n",
       "      <td>Compilation Error</td>\n",
       "      <td>0</td>\n",
       "      <td>100</td>\n",
       "      <td>it0012</td>\n",
       "      <td>10-09 09:32:17</td>\n",
       "      <td>10-09 09:42:54</td>\n",
       "      <td>{\"times\":[],\"mems\":[],\"verdicts\":{\"\\n\\nforbidd...</td>\n",
       "    </tr>\n",
       "    <tr>\n",
       "      <th>8</th>\n",
       "      <td>90ce27571176d87961b565d5ef4b3de33ede04ac</td>\n",
       "      <td>8b15ab090e1e8ec3284cf78746d94ffa00bd201b</td>\n",
       "      <td>ed9eaeb6a707f50154024b24d7efcb874a9795dd</td>\n",
       "      <td>0</td>\n",
       "      <td>Compilation Error</td>\n",
       "      <td>0</td>\n",
       "      <td>100</td>\n",
       "      <td>it0012</td>\n",
       "      <td>10-09 09:33:36</td>\n",
       "      <td>10-09 09:33:36</td>\n",
       "      <td>{\"times\":[],\"mems\":[],\"verdicts\":{\"\\n\\nforbidd...</td>\n",
       "    </tr>\n",
       "    <tr>\n",
       "      <th>9</th>\n",
       "      <td>90ce27571176d87961b565d5ef4b3de33ede04ac</td>\n",
       "      <td>8b15ab090e1e8ec3284cf78746d94ffa00bd201b</td>\n",
       "      <td>ed9eaeb6a707f50154024b24d7efcb874a9795dd</td>\n",
       "      <td>0</td>\n",
       "      <td>Compilation Error</td>\n",
       "      <td>0</td>\n",
       "      <td>100</td>\n",
       "      <td>it0012</td>\n",
       "      <td>10-09 09:34:05</td>\n",
       "      <td>10-09 09:34:05</td>\n",
       "      <td>{\"times\":[],\"mems\":[],\"verdicts\":{\"\\n\\nforbidd...</td>\n",
       "    </tr>\n",
       "  </tbody>\n",
       "</table>\n",
       "</div>"
      ],
      "text/plain": [
       "                              assignment_id  \\\n",
       "0  90ce27571176d87961b565d5ef4b3de33ede04ac   \n",
       "1  90ce27571176d87961b565d5ef4b3de33ede04ac   \n",
       "2  90ce27571176d87961b565d5ef4b3de33ede04ac   \n",
       "3  90ce27571176d87961b565d5ef4b3de33ede04ac   \n",
       "4  90ce27571176d87961b565d5ef4b3de33ede04ac   \n",
       "5  90ce27571176d87961b565d5ef4b3de33ede04ac   \n",
       "6  90ce27571176d87961b565d5ef4b3de33ede04ac   \n",
       "7  90ce27571176d87961b565d5ef4b3de33ede04ac   \n",
       "8  90ce27571176d87961b565d5ef4b3de33ede04ac   \n",
       "9  90ce27571176d87961b565d5ef4b3de33ede04ac   \n",
       "\n",
       "                                 problem_id  \\\n",
       "0  789454427dd4097a14749e3dde63346b7a8d3811   \n",
       "1  789454427dd4097a14749e3dde63346b7a8d3811   \n",
       "2  789454427dd4097a14749e3dde63346b7a8d3811   \n",
       "3  bf96fbdc5f499538c3e2bfbec5779c8a14b0a9ff   \n",
       "4  7a6e5ca470ff47c3b5048f240c4738de71010c78   \n",
       "5  d6a5bdd7f7f32364f4743854ef3b5369c0706677   \n",
       "6  d6a5bdd7f7f32364f4743854ef3b5369c0706677   \n",
       "7  8b15ab090e1e8ec3284cf78746d94ffa00bd201b   \n",
       "8  8b15ab090e1e8ec3284cf78746d94ffa00bd201b   \n",
       "9  8b15ab090e1e8ec3284cf78746d94ffa00bd201b   \n",
       "\n",
       "                                   username  is_final             status  \\\n",
       "0  ed9eaeb6a707f50154024b24d7efcb874a9795dd         0              SCORE   \n",
       "1  ed9eaeb6a707f50154024b24d7efcb874a9795dd         0              SCORE   \n",
       "2  ed9eaeb6a707f50154024b24d7efcb874a9795dd         1              SCORE   \n",
       "3  ed9eaeb6a707f50154024b24d7efcb874a9795dd         1              SCORE   \n",
       "4  ed9eaeb6a707f50154024b24d7efcb874a9795dd         1              SCORE   \n",
       "5  ed9eaeb6a707f50154024b24d7efcb874a9795dd         0  Compilation Error   \n",
       "6  ed9eaeb6a707f50154024b24d7efcb874a9795dd         1              SCORE   \n",
       "7  ed9eaeb6a707f50154024b24d7efcb874a9795dd         0  Compilation Error   \n",
       "8  ed9eaeb6a707f50154024b24d7efcb874a9795dd         0  Compilation Error   \n",
       "9  ed9eaeb6a707f50154024b24d7efcb874a9795dd         0  Compilation Error   \n",
       "\n",
       "   pre_score  coefficient language_id      created_at      updated_at  \\\n",
       "0          0          100      it0012  10-09 08:02:04  10-09 08:06:58   \n",
       "1          0          100      it0012  10-09 08:04:41  10-09 08:04:51   \n",
       "2      10000          100      it0012  10-09 08:06:49  10-09 08:06:58   \n",
       "3      10000          100      it0012  10-09 08:47:52  10-09 08:48:01   \n",
       "4      10000          100      it0012  10-09 09:19:35  10-09 09:19:45   \n",
       "5          0          100      it0012  10-09 09:29:03  10-09 09:30:08   \n",
       "6      10000          100      it0012  10-09 09:29:58  10-09 09:30:08   \n",
       "7          0          100      it0012  10-09 09:32:17  10-09 09:42:54   \n",
       "8          0          100      it0012  10-09 09:33:36  10-09 09:33:36   \n",
       "9          0          100      it0012  10-09 09:34:05  10-09 09:34:05   \n",
       "\n",
       "                                           judgement  \n",
       "0  {\"times\":[0,0,0,0,0,0,0,0,0,0],\"mems\":[0,0,0,0...  \n",
       "1  {\"times\":[0,0,0,0,0,0,0,0,0,0],\"mems\":[0,0,0,0...  \n",
       "2  {\"times\":[0,0,0,0,0,0,0,0,0,0],\"mems\":[0,0,0,0...  \n",
       "3  {\"times\":[0,0,0,0,0,0,0,0,0,0],\"mems\":[0,0,0,0...  \n",
       "4  {\"times\":[0,0,0,0,0,0,0,0,0,0],\"mems\":[0,0,0,0...  \n",
       "5  {\"times\":[],\"mems\":[],\"verdicts\":{\"\\n\\nIn func...  \n",
       "6  {\"times\":[0,0,0,0,0,0,0,0,0,0],\"mems\":[0,0,0,0...  \n",
       "7  {\"times\":[],\"mems\":[],\"verdicts\":{\"\\n\\nforbidd...  \n",
       "8  {\"times\":[],\"mems\":[],\"verdicts\":{\"\\n\\nforbidd...  \n",
       "9  {\"times\":[],\"mems\":[],\"verdicts\":{\"\\n\\nforbidd...  "
      ]
     },
     "execution_count": 4,
     "metadata": {},
     "output_type": "execute_result"
    }
   ],
   "source": [
    "wecode_df.head(10)"
   ]
  },
  {
   "cell_type": "code",
   "execution_count": 5,
   "id": "a483e8c3",
   "metadata": {},
   "outputs": [
    {
     "name": "stdout",
     "output_type": "stream",
     "text": [
      "<class 'pandas.core.frame.DataFrame'>\n",
      "RangeIndex: 295198 entries, 0 to 295197\n",
      "Data columns (total 11 columns):\n",
      " #   Column         Non-Null Count   Dtype \n",
      "---  ------         --------------   ----- \n",
      " 0   assignment_id  295198 non-null  object\n",
      " 1   problem_id     295198 non-null  object\n",
      " 2   username       295198 non-null  object\n",
      " 3   is_final       295198 non-null  int64 \n",
      " 4   status         295198 non-null  object\n",
      " 5   pre_score      295198 non-null  int64 \n",
      " 6   coefficient    295198 non-null  int64 \n",
      " 7   language_id    295198 non-null  object\n",
      " 8   created_at     295198 non-null  object\n",
      " 9   updated_at     295198 non-null  object\n",
      " 10  judgement      295198 non-null  object\n",
      "dtypes: int64(3), object(8)\n",
      "memory usage: 24.8+ MB\n"
     ]
    }
   ],
   "source": [
    "wecode_df.info()"
   ]
  },
  {
   "cell_type": "code",
   "execution_count": 6,
   "id": "79ff3e74",
   "metadata": {},
   "outputs": [
    {
     "data": {
      "text/plain": [
       "assignment_id       203\n",
       "problem_id          469\n",
       "username           1489\n",
       "is_final              2\n",
       "status                4\n",
       "pre_score           631\n",
       "coefficient           4\n",
       "language_id           6\n",
       "created_at       284530\n",
       "updated_at       242976\n",
       "judgement         58406\n",
       "dtype: int64"
      ]
     },
     "execution_count": 6,
     "metadata": {},
     "output_type": "execute_result"
    }
   ],
   "source": [
    "wecode_df.nunique()"
   ]
  },
  {
   "cell_type": "markdown",
   "id": "12889ef4",
   "metadata": {},
   "source": [
    "Từ thông tin trên thì ta có thể nhận thấy ngay bộ dữ liệu không hề có cột nào bị bỏ trống (tất cả các cột đều có 295198 giá trị là non-null), nên ta không cần phải xử lí dữ liệu khuyết thiết cho dữ liệu này. "
   ]
  },
  {
   "cell_type": "markdown",
   "id": "217fecb9",
   "metadata": {},
   "source": [
    "Những ta dễ thấy, các đặc trưng của dữ liệu này không mang giá trị đánh giá chung về khả năng của sinh viên, mà nó chỉ chứa thông tin về những lần nộp bài wecode của sinh viên một các rời rạc, lẻ tẻ. Vì vậy, chúng cần phải được tổng hợp lại và thay thế bằng những đặc trưng mới có giá trị đánh giá hoạt động học tập của sinh viên (ví dụ: tổng điểm của các bài wecode, số lần thử nộp bài, số bài đã giải, ...). Và từ đó ta có thể xây dựng các mô hình dự đoán điểm quá trình, thực hành và cuối kì dựa trên các đặc trưng mới này hiệu quả hơn."
   ]
  },
  {
   "cell_type": "markdown",
   "id": "8a8e852c",
   "metadata": {},
   "source": [
    "#### 1.3.2. Thông tin bộ dữ liệu điểm của sinh viên"
   ]
  },
  {
   "cell_type": "code",
   "execution_count": 7,
   "id": "c1f0b81b",
   "metadata": {},
   "outputs": [
    {
     "data": {
      "text/html": [
       "<div>\n",
       "<style scoped>\n",
       "    .dataframe tbody tr th:only-of-type {\n",
       "        vertical-align: middle;\n",
       "    }\n",
       "\n",
       "    .dataframe tbody tr th {\n",
       "        vertical-align: top;\n",
       "    }\n",
       "\n",
       "    .dataframe thead th {\n",
       "        text-align: right;\n",
       "    }\n",
       "</style>\n",
       "<table border=\"1\" class=\"dataframe\">\n",
       "  <thead>\n",
       "    <tr style=\"text-align: right;\">\n",
       "      <th></th>\n",
       "      <th>username</th>\n",
       "      <th>QT</th>\n",
       "    </tr>\n",
       "  </thead>\n",
       "  <tbody>\n",
       "    <tr>\n",
       "      <th>0</th>\n",
       "      <td>00b6dd4fc7eb817e03708c532016ef30ce564a61</td>\n",
       "      <td>7.5</td>\n",
       "    </tr>\n",
       "    <tr>\n",
       "      <th>1</th>\n",
       "      <td>00bef8afee8f3c595d535c9c03c490cac1a4f021</td>\n",
       "      <td>7</td>\n",
       "    </tr>\n",
       "    <tr>\n",
       "      <th>2</th>\n",
       "      <td>01122b3ef7e59b84189e65985305f575d6bdf83c</td>\n",
       "      <td>9</td>\n",
       "    </tr>\n",
       "    <tr>\n",
       "      <th>3</th>\n",
       "      <td>013de369c439ab0ead8aa7da64423aa395a8be39</td>\n",
       "      <td>10</td>\n",
       "    </tr>\n",
       "    <tr>\n",
       "      <th>4</th>\n",
       "      <td>014c59c6433fd764a0b08de6ffeb757eaf60aa73</td>\n",
       "      <td>9</td>\n",
       "    </tr>\n",
       "    <tr>\n",
       "      <th>5</th>\n",
       "      <td>0155f91fe242fe55e1af631b0f0afbe9938b185c</td>\n",
       "      <td>9</td>\n",
       "    </tr>\n",
       "    <tr>\n",
       "      <th>6</th>\n",
       "      <td>016f87a7bd87f233a8633fba8a1ca7ef5c3c63c1</td>\n",
       "      <td>8</td>\n",
       "    </tr>\n",
       "    <tr>\n",
       "      <th>7</th>\n",
       "      <td>017ec1bbad0d598e5a86ac3bd595b870b6456e61</td>\n",
       "      <td>8</td>\n",
       "    </tr>\n",
       "    <tr>\n",
       "      <th>8</th>\n",
       "      <td>01ad03ec301749c033155fc17e657cc767d447c8</td>\n",
       "      <td>7</td>\n",
       "    </tr>\n",
       "    <tr>\n",
       "      <th>9</th>\n",
       "      <td>020ef1c31cb4751bbfa1a88fba782db3c402e2fa</td>\n",
       "      <td>9</td>\n",
       "    </tr>\n",
       "  </tbody>\n",
       "</table>\n",
       "</div>"
      ],
      "text/plain": [
       "                                   username   QT\n",
       "0  00b6dd4fc7eb817e03708c532016ef30ce564a61  7.5\n",
       "1  00bef8afee8f3c595d535c9c03c490cac1a4f021    7\n",
       "2  01122b3ef7e59b84189e65985305f575d6bdf83c    9\n",
       "3  013de369c439ab0ead8aa7da64423aa395a8be39   10\n",
       "4  014c59c6433fd764a0b08de6ffeb757eaf60aa73    9\n",
       "5  0155f91fe242fe55e1af631b0f0afbe9938b185c    9\n",
       "6  016f87a7bd87f233a8633fba8a1ca7ef5c3c63c1    8\n",
       "7  017ec1bbad0d598e5a86ac3bd595b870b6456e61    8\n",
       "8  01ad03ec301749c033155fc17e657cc767d447c8    7\n",
       "9  020ef1c31cb4751bbfa1a88fba782db3c402e2fa    9"
      ]
     },
     "execution_count": 7,
     "metadata": {},
     "output_type": "execute_result"
    }
   ],
   "source": [
    "qt_df.head(10)"
   ]
  },
  {
   "cell_type": "code",
   "execution_count": 8,
   "id": "e3a48383",
   "metadata": {},
   "outputs": [
    {
     "name": "stdout",
     "output_type": "stream",
     "text": [
      "<class 'pandas.core.frame.DataFrame'>\n",
      "RangeIndex: 761 entries, 0 to 760\n",
      "Data columns (total 2 columns):\n",
      " #   Column    Non-Null Count  Dtype \n",
      "---  ------    --------------  ----- \n",
      " 0   username  761 non-null    object\n",
      " 1   QT        755 non-null    object\n",
      "dtypes: object(2)\n",
      "memory usage: 12.0+ KB\n"
     ]
    }
   ],
   "source": [
    "qt_df.info()"
   ]
  },
  {
   "cell_type": "code",
   "execution_count": 9,
   "id": "14324f34",
   "metadata": {},
   "outputs": [
    {
     "data": {
      "text/plain": [
       "username    761\n",
       "QT           21\n",
       "dtype: int64"
      ]
     },
     "execution_count": 9,
     "metadata": {},
     "output_type": "execute_result"
    }
   ],
   "source": [
    "qt_df.nunique()"
   ]
  },
  {
   "cell_type": "code",
   "execution_count": 10,
   "id": "191edb16",
   "metadata": {},
   "outputs": [
    {
     "data": {
      "text/html": [
       "<div>\n",
       "<style scoped>\n",
       "    .dataframe tbody tr th:only-of-type {\n",
       "        vertical-align: middle;\n",
       "    }\n",
       "\n",
       "    .dataframe tbody tr th {\n",
       "        vertical-align: top;\n",
       "    }\n",
       "\n",
       "    .dataframe thead th {\n",
       "        text-align: right;\n",
       "    }\n",
       "</style>\n",
       "<table border=\"1\" class=\"dataframe\">\n",
       "  <thead>\n",
       "    <tr style=\"text-align: right;\">\n",
       "      <th></th>\n",
       "      <th>username</th>\n",
       "      <th>TH</th>\n",
       "    </tr>\n",
       "  </thead>\n",
       "  <tbody>\n",
       "    <tr>\n",
       "      <th>0</th>\n",
       "      <td>00b6dd4fc7eb817e03708c532016ef30ce564a61</td>\n",
       "      <td>5</td>\n",
       "    </tr>\n",
       "    <tr>\n",
       "      <th>1</th>\n",
       "      <td>00bef8afee8f3c595d535c9c03c490cac1a4f021</td>\n",
       "      <td>8.5</td>\n",
       "    </tr>\n",
       "    <tr>\n",
       "      <th>2</th>\n",
       "      <td>01122b3ef7e59b84189e65985305f575d6bdf83c</td>\n",
       "      <td>7</td>\n",
       "    </tr>\n",
       "    <tr>\n",
       "      <th>3</th>\n",
       "      <td>013de369c439ab0ead8aa7da64423aa395a8be39</td>\n",
       "      <td>10</td>\n",
       "    </tr>\n",
       "    <tr>\n",
       "      <th>4</th>\n",
       "      <td>014c59c6433fd764a0b08de6ffeb757eaf60aa73</td>\n",
       "      <td>6</td>\n",
       "    </tr>\n",
       "    <tr>\n",
       "      <th>5</th>\n",
       "      <td>0155f91fe242fe55e1af631b0f0afbe9938b185c</td>\n",
       "      <td>7.5</td>\n",
       "    </tr>\n",
       "    <tr>\n",
       "      <th>6</th>\n",
       "      <td>016f87a7bd87f233a8633fba8a1ca7ef5c3c63c1</td>\n",
       "      <td>8</td>\n",
       "    </tr>\n",
       "    <tr>\n",
       "      <th>7</th>\n",
       "      <td>017ec1bbad0d598e5a86ac3bd595b870b6456e61</td>\n",
       "      <td>8.5</td>\n",
       "    </tr>\n",
       "    <tr>\n",
       "      <th>8</th>\n",
       "      <td>01ad03ec301749c033155fc17e657cc767d447c8</td>\n",
       "      <td>7.5</td>\n",
       "    </tr>\n",
       "    <tr>\n",
       "      <th>9</th>\n",
       "      <td>020ef1c31cb4751bbfa1a88fba782db3c402e2fa</td>\n",
       "      <td>5.5</td>\n",
       "    </tr>\n",
       "  </tbody>\n",
       "</table>\n",
       "</div>"
      ],
      "text/plain": [
       "                                   username   TH\n",
       "0  00b6dd4fc7eb817e03708c532016ef30ce564a61    5\n",
       "1  00bef8afee8f3c595d535c9c03c490cac1a4f021  8.5\n",
       "2  01122b3ef7e59b84189e65985305f575d6bdf83c    7\n",
       "3  013de369c439ab0ead8aa7da64423aa395a8be39   10\n",
       "4  014c59c6433fd764a0b08de6ffeb757eaf60aa73    6\n",
       "5  0155f91fe242fe55e1af631b0f0afbe9938b185c  7.5\n",
       "6  016f87a7bd87f233a8633fba8a1ca7ef5c3c63c1    8\n",
       "7  017ec1bbad0d598e5a86ac3bd595b870b6456e61  8.5\n",
       "8  01ad03ec301749c033155fc17e657cc767d447c8  7.5\n",
       "9  020ef1c31cb4751bbfa1a88fba782db3c402e2fa  5.5"
      ]
     },
     "execution_count": 10,
     "metadata": {},
     "output_type": "execute_result"
    }
   ],
   "source": [
    "th_df.head(10)"
   ]
  },
  {
   "cell_type": "code",
   "execution_count": 11,
   "id": "728715a3",
   "metadata": {},
   "outputs": [
    {
     "name": "stdout",
     "output_type": "stream",
     "text": [
      "<class 'pandas.core.frame.DataFrame'>\n",
      "RangeIndex: 761 entries, 0 to 760\n",
      "Data columns (total 2 columns):\n",
      " #   Column    Non-Null Count  Dtype \n",
      "---  ------    --------------  ----- \n",
      " 0   username  761 non-null    object\n",
      " 1   TH        755 non-null    object\n",
      "dtypes: object(2)\n",
      "memory usage: 12.0+ KB\n"
     ]
    }
   ],
   "source": [
    "th_df.info()"
   ]
  },
  {
   "cell_type": "code",
   "execution_count": 12,
   "id": "5d28961a",
   "metadata": {},
   "outputs": [
    {
     "data": {
      "text/plain": [
       "username    761\n",
       "TH           21\n",
       "dtype: int64"
      ]
     },
     "execution_count": 12,
     "metadata": {},
     "output_type": "execute_result"
    }
   ],
   "source": [
    "th_df.nunique()"
   ]
  },
  {
   "cell_type": "code",
   "execution_count": 13,
   "id": "bea4e0c5",
   "metadata": {},
   "outputs": [
    {
     "data": {
      "text/html": [
       "<div>\n",
       "<style scoped>\n",
       "    .dataframe tbody tr th:only-of-type {\n",
       "        vertical-align: middle;\n",
       "    }\n",
       "\n",
       "    .dataframe tbody tr th {\n",
       "        vertical-align: top;\n",
       "    }\n",
       "\n",
       "    .dataframe thead th {\n",
       "        text-align: right;\n",
       "    }\n",
       "</style>\n",
       "<table border=\"1\" class=\"dataframe\">\n",
       "  <thead>\n",
       "    <tr style=\"text-align: right;\">\n",
       "      <th></th>\n",
       "      <th>username</th>\n",
       "      <th>CK</th>\n",
       "    </tr>\n",
       "  </thead>\n",
       "  <tbody>\n",
       "    <tr>\n",
       "      <th>0</th>\n",
       "      <td>00b6dd4fc7eb817e03708c532016ef30ce564a61</td>\n",
       "      <td>5.5</td>\n",
       "    </tr>\n",
       "    <tr>\n",
       "      <th>1</th>\n",
       "      <td>00bef8afee8f3c595d535c9c03c490cac1a4f021</td>\n",
       "      <td>6.5</td>\n",
       "    </tr>\n",
       "    <tr>\n",
       "      <th>2</th>\n",
       "      <td>01122b3ef7e59b84189e65985305f575d6bdf83c</td>\n",
       "      <td>4.5</td>\n",
       "    </tr>\n",
       "    <tr>\n",
       "      <th>3</th>\n",
       "      <td>013de369c439ab0ead8aa7da64423aa395a8be39</td>\n",
       "      <td>5.0</td>\n",
       "    </tr>\n",
       "    <tr>\n",
       "      <th>4</th>\n",
       "      <td>014c59c6433fd764a0b08de6ffeb757eaf60aa73</td>\n",
       "      <td>4.0</td>\n",
       "    </tr>\n",
       "    <tr>\n",
       "      <th>5</th>\n",
       "      <td>0155f91fe242fe55e1af631b0f0afbe9938b185c</td>\n",
       "      <td>4.0</td>\n",
       "    </tr>\n",
       "    <tr>\n",
       "      <th>6</th>\n",
       "      <td>016f87a7bd87f233a8633fba8a1ca7ef5c3c63c1</td>\n",
       "      <td>6.5</td>\n",
       "    </tr>\n",
       "    <tr>\n",
       "      <th>7</th>\n",
       "      <td>017ec1bbad0d598e5a86ac3bd595b870b6456e61</td>\n",
       "      <td>4.0</td>\n",
       "    </tr>\n",
       "    <tr>\n",
       "      <th>8</th>\n",
       "      <td>01ad03ec301749c033155fc17e657cc767d447c8</td>\n",
       "      <td>5.5</td>\n",
       "    </tr>\n",
       "    <tr>\n",
       "      <th>9</th>\n",
       "      <td>020ef1c31cb4751bbfa1a88fba782db3c402e2fa</td>\n",
       "      <td>5.0</td>\n",
       "    </tr>\n",
       "  </tbody>\n",
       "</table>\n",
       "</div>"
      ],
      "text/plain": [
       "                                   username   CK\n",
       "0  00b6dd4fc7eb817e03708c532016ef30ce564a61  5.5\n",
       "1  00bef8afee8f3c595d535c9c03c490cac1a4f021  6.5\n",
       "2  01122b3ef7e59b84189e65985305f575d6bdf83c  4.5\n",
       "3  013de369c439ab0ead8aa7da64423aa395a8be39  5.0\n",
       "4  014c59c6433fd764a0b08de6ffeb757eaf60aa73  4.0\n",
       "5  0155f91fe242fe55e1af631b0f0afbe9938b185c  4.0\n",
       "6  016f87a7bd87f233a8633fba8a1ca7ef5c3c63c1  6.5\n",
       "7  017ec1bbad0d598e5a86ac3bd595b870b6456e61  4.0\n",
       "8  01ad03ec301749c033155fc17e657cc767d447c8  5.5\n",
       "9  020ef1c31cb4751bbfa1a88fba782db3c402e2fa  5.0"
      ]
     },
     "execution_count": 13,
     "metadata": {},
     "output_type": "execute_result"
    }
   ],
   "source": [
    "ck_df.head(10)"
   ]
  },
  {
   "cell_type": "code",
   "execution_count": 14,
   "id": "ea075fa4",
   "metadata": {},
   "outputs": [
    {
     "name": "stdout",
     "output_type": "stream",
     "text": [
      "<class 'pandas.core.frame.DataFrame'>\n",
      "RangeIndex: 761 entries, 0 to 760\n",
      "Data columns (total 2 columns):\n",
      " #   Column    Non-Null Count  Dtype  \n",
      "---  ------    --------------  -----  \n",
      " 0   username  761 non-null    object \n",
      " 1   CK        755 non-null    float64\n",
      "dtypes: float64(1), object(1)\n",
      "memory usage: 12.0+ KB\n"
     ]
    }
   ],
   "source": [
    "ck_df.info()"
   ]
  },
  {
   "cell_type": "code",
   "execution_count": 15,
   "id": "0a0415bf",
   "metadata": {},
   "outputs": [
    {
     "data": {
      "text/plain": [
       "username    761\n",
       "CK           21\n",
       "dtype: int64"
      ]
     },
     "execution_count": 15,
     "metadata": {},
     "output_type": "execute_result"
    }
   ],
   "source": [
    "ck_df.nunique()"
   ]
  },
  {
   "cell_type": "markdown",
   "id": "614bcaed",
   "metadata": {},
   "source": [
    "Từ thông tin của 3 dataframe điểm trên, ta có thể thấy những thông tin sau:\n",
    "- Cả 3 dataframe đều có 761 `username` non-null và khác nhau\n",
    "- Cả 3 dataframe có cột điểm chỉ có 755/761 giá trị là non-null"
   ]
  },
  {
   "cell_type": "code",
   "execution_count": 16,
   "id": "163d4a83",
   "metadata": {},
   "outputs": [
    {
     "name": "stdout",
     "output_type": "stream",
     "text": [
      "Number of similar usernames between qt_df and th_df: 761\n",
      "Number of similar usernames between qt_df and ck_df: 761\n"
     ]
    }
   ],
   "source": [
    "print(\n",
    "    \"Number of similar usernames between qt_df and th_df: \"\n",
    "    + str(sum(qt_df[\"username\"] == th_df[\"username\"]))\n",
    ")\n",
    "print(\n",
    "    \"Number of similar usernames between qt_df and ck_df: \"\n",
    "    + str(sum(qt_df[\"username\"] == ck_df[\"username\"]))\n",
    ")"
   ]
  },
  {
   "cell_type": "markdown",
   "id": "85c61773",
   "metadata": {},
   "source": [
    "Nhận thấy cả 3 dataframe chứa điểm quá trình, thực hành, cuối kì của cùng 761 sinh viên, vậy nên ta có thể hợp nhất cả 3 dataframe được load riêng lẻ thành 1 dataframe duy nhất dể tiện hơn trong việc thao tác."
   ]
  },
  {
   "cell_type": "code",
   "execution_count": 17,
   "id": "0c7d567e",
   "metadata": {},
   "outputs": [],
   "source": [
    "# Hợp nhất điểm từ 3 dataframe thành 1 dataframe score_df duy nhất\n",
    "score_df = pd.merge(\n",
    "    pd.merge(qt_df, th_df, on=\"username\", how=\"inner\"),\n",
    "    ck_df,\n",
    "    on=\"username\",\n",
    "    how=\"inner\",\n",
    ")"
   ]
  },
  {
   "cell_type": "markdown",
   "id": "6a567f52",
   "metadata": {},
   "source": [
    "### 1.4. Xử lí dữ liệu khuyết thiếu"
   ]
  },
  {
   "cell_type": "markdown",
   "id": "d5971bea",
   "metadata": {},
   "source": [
    "Đối với `wecode_df` thì hoàn toàn không hề có dữ liệu khuyết thiếu. Bây giờ, ta xem xét những hàng bị bỏ trống (NaN) trong `score_df` để thực hiện lọc hoặc lấp đầy chúng, tránh lỗi trong quá trình thao tác."
   ]
  },
  {
   "cell_type": "code",
   "execution_count": 18,
   "id": "e2c5c66f",
   "metadata": {},
   "outputs": [
    {
     "data": {
      "text/html": [
       "<div>\n",
       "<style scoped>\n",
       "    .dataframe tbody tr th:only-of-type {\n",
       "        vertical-align: middle;\n",
       "    }\n",
       "\n",
       "    .dataframe tbody tr th {\n",
       "        vertical-align: top;\n",
       "    }\n",
       "\n",
       "    .dataframe thead th {\n",
       "        text-align: right;\n",
       "    }\n",
       "</style>\n",
       "<table border=\"1\" class=\"dataframe\">\n",
       "  <thead>\n",
       "    <tr style=\"text-align: right;\">\n",
       "      <th></th>\n",
       "      <th>username</th>\n",
       "      <th>QT</th>\n",
       "      <th>TH</th>\n",
       "      <th>CK</th>\n",
       "    </tr>\n",
       "  </thead>\n",
       "  <tbody>\n",
       "    <tr>\n",
       "      <th>38</th>\n",
       "      <td>06024da8147b5cf6105beb4c403f67cf1ff0aea1</td>\n",
       "      <td>NaN</td>\n",
       "      <td>NaN</td>\n",
       "      <td>NaN</td>\n",
       "    </tr>\n",
       "    <tr>\n",
       "      <th>83</th>\n",
       "      <td>0d815307d5307124d148bbebfb41497230c4bd15</td>\n",
       "      <td>NaN</td>\n",
       "      <td>NaN</td>\n",
       "      <td>NaN</td>\n",
       "    </tr>\n",
       "    <tr>\n",
       "      <th>91</th>\n",
       "      <td>0eb93817d6eb3d5bd3e44dbc75971eea193b924f</td>\n",
       "      <td>NaN</td>\n",
       "      <td>NaN</td>\n",
       "      <td>NaN</td>\n",
       "    </tr>\n",
       "    <tr>\n",
       "      <th>195</th>\n",
       "      <td>209d7c77e7a150b6990a3372f7cb24da0c0e7e07</td>\n",
       "      <td>NaN</td>\n",
       "      <td>NaN</td>\n",
       "      <td>NaN</td>\n",
       "    </tr>\n",
       "    <tr>\n",
       "      <th>210</th>\n",
       "      <td>2383a9a33025aa8759fee9a890f6420df0fc8b47</td>\n",
       "      <td>NaN</td>\n",
       "      <td>NaN</td>\n",
       "      <td>NaN</td>\n",
       "    </tr>\n",
       "    <tr>\n",
       "      <th>244</th>\n",
       "      <td>2855b4b4d03c37c94117e615a25e0e321ec8d77a</td>\n",
       "      <td>NaN</td>\n",
       "      <td>NaN</td>\n",
       "      <td>NaN</td>\n",
       "    </tr>\n",
       "  </tbody>\n",
       "</table>\n",
       "</div>"
      ],
      "text/plain": [
       "                                     username   QT   TH  CK\n",
       "38   06024da8147b5cf6105beb4c403f67cf1ff0aea1  NaN  NaN NaN\n",
       "83   0d815307d5307124d148bbebfb41497230c4bd15  NaN  NaN NaN\n",
       "91   0eb93817d6eb3d5bd3e44dbc75971eea193b924f  NaN  NaN NaN\n",
       "195  209d7c77e7a150b6990a3372f7cb24da0c0e7e07  NaN  NaN NaN\n",
       "210  2383a9a33025aa8759fee9a890f6420df0fc8b47  NaN  NaN NaN\n",
       "244  2855b4b4d03c37c94117e615a25e0e321ec8d77a  NaN  NaN NaN"
      ]
     },
     "execution_count": 18,
     "metadata": {},
     "output_type": "execute_result"
    }
   ],
   "source": [
    "score_df[(score_df[\"QT\"].isna()) | (score_df[\"TH\"].isna()) | (score_df[\"CK\"].isna())]"
   ]
  },
  {
   "cell_type": "markdown",
   "id": "d5e6ca11",
   "metadata": {},
   "source": [
    "Ta dễ dàng nhận thấy rằng chỉ có 6 `username` có ít nhất 1 trong 3 cột bị bỏ trống (NaN), và thực chất là cả 3 cột đều bị bỏ trống. Vì vậy ta có thể loại những `username` này ra khỏi dataframe `score_df`."
   ]
  },
  {
   "cell_type": "code",
   "execution_count": 19,
   "id": "0f50ca83",
   "metadata": {},
   "outputs": [],
   "source": [
    "# Xử lý lọc dữ liệu không hợp lệ\n",
    "score_df = score_df.dropna()"
   ]
  },
  {
   "cell_type": "markdown",
   "id": "206d7888",
   "metadata": {},
   "source": [
    "Sau khi loại bỏ NaN thì kết quả dataframe `score_df` thu được chứa 755 dòng đều non-null:"
   ]
  },
  {
   "cell_type": "code",
   "execution_count": 20,
   "id": "38ffb454",
   "metadata": {},
   "outputs": [
    {
     "name": "stdout",
     "output_type": "stream",
     "text": [
      "<class 'pandas.core.frame.DataFrame'>\n",
      "Index: 755 entries, 0 to 760\n",
      "Data columns (total 4 columns):\n",
      " #   Column    Non-Null Count  Dtype  \n",
      "---  ------    --------------  -----  \n",
      " 0   username  755 non-null    object \n",
      " 1   QT        755 non-null    object \n",
      " 2   TH        755 non-null    object \n",
      " 3   CK        755 non-null    float64\n",
      "dtypes: float64(1), object(3)\n",
      "memory usage: 29.5+ KB\n"
     ]
    }
   ],
   "source": [
    "score_df.info()"
   ]
  },
  {
   "cell_type": "markdown",
   "id": "8c2ebd7e",
   "metadata": {},
   "source": [
    "## 2. Trích xuất đặc trưng"
   ]
  },
  {
   "cell_type": "markdown",
   "id": "34c58273",
   "metadata": {},
   "source": [
    "Như đã phân tích ở phần 1 thì tập dữ liệu wecode hiện tại không thể được dùng trực tiếp để đánh giá năng lực học tập của sinh viên. Do đó, cần phải tổng hợp các đặc trưng hiện tại và trích xuất ra thành các đặt trưng mới có giá trị đánh giá năng lực học tập của sinh viên hơn."
   ]
  },
  {
   "cell_type": "markdown",
   "id": "b36231c0",
   "metadata": {},
   "source": [
    "Từ tập dữ liệu wecode trên, một số đặc trưng mới có thể trích xuất từ các đặc trưng hiện tại có thể kể đến đó là:\n",
    "- Tổng số lần nộp bài (`tries`)\n",
    "- Tổng số lần thử đúng (`correct_tries`)\n",
    "- Tổng số vấn đề đã thử giải (`tried_probs`)\n",
    "- Tổng số vấn đề đã giải (`solved_probs`)\n",
    "- Tổng điểm của tất cả các lần nộp (`total_score`)\n",
    "- Tổng điểm cuối cùng (`total_final_score`)"
   ]
  },
  {
   "cell_type": "markdown",
   "id": "69fa0265",
   "metadata": {},
   "source": [
    "Thế nhưng, những đặc trưng đó chưa đủ để đánh giá năng lực của sinh viên, nên ta cần phải biến đổi thêm một lần nữa để thu về những đặc trưng có giá trị đánh giá tốt hơn:\n",
    "- Trung bình số lần thử trên mỗi vấn đề (`tries/prob`)\n",
    "- Tỉ lệ đúng của mỗi lần thử (`accuracy`)\n",
    "- Trung bình điểm trên mỗi vấn đề (`score/prob`)\n",
    "- Trung bình điểm trên mỗi lần thử (`score/try`)"
   ]
  },
  {
   "cell_type": "code",
   "execution_count": 21,
   "id": "7d25feb7",
   "metadata": {},
   "outputs": [
    {
     "data": {
      "text/html": [
       "<div>\n",
       "<style scoped>\n",
       "    .dataframe tbody tr th:only-of-type {\n",
       "        vertical-align: middle;\n",
       "    }\n",
       "\n",
       "    .dataframe tbody tr th {\n",
       "        vertical-align: top;\n",
       "    }\n",
       "\n",
       "    .dataframe thead th {\n",
       "        text-align: right;\n",
       "    }\n",
       "</style>\n",
       "<table border=\"1\" class=\"dataframe\">\n",
       "  <thead>\n",
       "    <tr style=\"text-align: right;\">\n",
       "      <th></th>\n",
       "      <th>username</th>\n",
       "      <th>tries</th>\n",
       "      <th>correct_tries</th>\n",
       "      <th>tried_probs</th>\n",
       "      <th>solved_probs</th>\n",
       "      <th>total_score</th>\n",
       "      <th>total_final_score</th>\n",
       "    </tr>\n",
       "  </thead>\n",
       "  <tbody>\n",
       "    <tr>\n",
       "      <th>0</th>\n",
       "      <td>00b6dd4fc7eb817e03708c532016ef30ce564a61</td>\n",
       "      <td>147</td>\n",
       "      <td>54</td>\n",
       "      <td>46</td>\n",
       "      <td>46</td>\n",
       "      <td>809110.0</td>\n",
       "      <td>460000.0</td>\n",
       "    </tr>\n",
       "    <tr>\n",
       "      <th>1</th>\n",
       "      <td>00bef8afee8f3c595d535c9c03c490cac1a4f021</td>\n",
       "      <td>259</td>\n",
       "      <td>85</td>\n",
       "      <td>78</td>\n",
       "      <td>72</td>\n",
       "      <td>1421535.0</td>\n",
       "      <td>752499.0</td>\n",
       "    </tr>\n",
       "    <tr>\n",
       "      <th>2</th>\n",
       "      <td>01122b3ef7e59b84189e65985305f575d6bdf83c</td>\n",
       "      <td>195</td>\n",
       "      <td>59</td>\n",
       "      <td>67</td>\n",
       "      <td>59</td>\n",
       "      <td>1164882.0</td>\n",
       "      <td>629214.0</td>\n",
       "    </tr>\n",
       "    <tr>\n",
       "      <th>3</th>\n",
       "      <td>0134f9f410c65ad0e8c2254a7e9288670e02a183</td>\n",
       "      <td>100</td>\n",
       "      <td>52</td>\n",
       "      <td>47</td>\n",
       "      <td>47</td>\n",
       "      <td>595276.0</td>\n",
       "      <td>470000.0</td>\n",
       "    </tr>\n",
       "    <tr>\n",
       "      <th>4</th>\n",
       "      <td>013de369c439ab0ead8aa7da64423aa395a8be39</td>\n",
       "      <td>107</td>\n",
       "      <td>59</td>\n",
       "      <td>66</td>\n",
       "      <td>58</td>\n",
       "      <td>686802.0</td>\n",
       "      <td>602519.0</td>\n",
       "    </tr>\n",
       "    <tr>\n",
       "      <th>5</th>\n",
       "      <td>014c59c6433fd764a0b08de6ffeb757eaf60aa73</td>\n",
       "      <td>199</td>\n",
       "      <td>79</td>\n",
       "      <td>90</td>\n",
       "      <td>79</td>\n",
       "      <td>1042765.0</td>\n",
       "      <td>796000.0</td>\n",
       "    </tr>\n",
       "    <tr>\n",
       "      <th>6</th>\n",
       "      <td>0155f91fe242fe55e1af631b0f0afbe9938b185c</td>\n",
       "      <td>179</td>\n",
       "      <td>60</td>\n",
       "      <td>60</td>\n",
       "      <td>56</td>\n",
       "      <td>826531.0</td>\n",
       "      <td>562000.0</td>\n",
       "    </tr>\n",
       "    <tr>\n",
       "      <th>7</th>\n",
       "      <td>016f87a7bd87f233a8633fba8a1ca7ef5c3c63c1</td>\n",
       "      <td>364</td>\n",
       "      <td>75</td>\n",
       "      <td>77</td>\n",
       "      <td>68</td>\n",
       "      <td>1774884.0</td>\n",
       "      <td>712916.0</td>\n",
       "    </tr>\n",
       "    <tr>\n",
       "      <th>8</th>\n",
       "      <td>017ec1bbad0d598e5a86ac3bd595b870b6456e61</td>\n",
       "      <td>218</td>\n",
       "      <td>86</td>\n",
       "      <td>91</td>\n",
       "      <td>85</td>\n",
       "      <td>1380711.0</td>\n",
       "      <td>881142.0</td>\n",
       "    </tr>\n",
       "    <tr>\n",
       "      <th>9</th>\n",
       "      <td>01ad03ec301749c033155fc17e657cc767d447c8</td>\n",
       "      <td>271</td>\n",
       "      <td>76</td>\n",
       "      <td>74</td>\n",
       "      <td>68</td>\n",
       "      <td>1404394.0</td>\n",
       "      <td>698146.0</td>\n",
       "    </tr>\n",
       "  </tbody>\n",
       "</table>\n",
       "</div>"
      ],
      "text/plain": [
       "                                   username  tries  correct_tries  \\\n",
       "0  00b6dd4fc7eb817e03708c532016ef30ce564a61    147             54   \n",
       "1  00bef8afee8f3c595d535c9c03c490cac1a4f021    259             85   \n",
       "2  01122b3ef7e59b84189e65985305f575d6bdf83c    195             59   \n",
       "3  0134f9f410c65ad0e8c2254a7e9288670e02a183    100             52   \n",
       "4  013de369c439ab0ead8aa7da64423aa395a8be39    107             59   \n",
       "5  014c59c6433fd764a0b08de6ffeb757eaf60aa73    199             79   \n",
       "6  0155f91fe242fe55e1af631b0f0afbe9938b185c    179             60   \n",
       "7  016f87a7bd87f233a8633fba8a1ca7ef5c3c63c1    364             75   \n",
       "8  017ec1bbad0d598e5a86ac3bd595b870b6456e61    218             86   \n",
       "9  01ad03ec301749c033155fc17e657cc767d447c8    271             76   \n",
       "\n",
       "   tried_probs  solved_probs  total_score  total_final_score  \n",
       "0           46            46     809110.0           460000.0  \n",
       "1           78            72    1421535.0           752499.0  \n",
       "2           67            59    1164882.0           629214.0  \n",
       "3           47            47     595276.0           470000.0  \n",
       "4           66            58     686802.0           602519.0  \n",
       "5           90            79    1042765.0           796000.0  \n",
       "6           60            56     826531.0           562000.0  \n",
       "7           77            68    1774884.0           712916.0  \n",
       "8           91            85    1380711.0           881142.0  \n",
       "9           74            68    1404394.0           698146.0  "
      ]
     },
     "execution_count": 21,
     "metadata": {},
     "output_type": "execute_result"
    }
   ],
   "source": [
    "wecode_df[\"real_score\"] = wecode_df[\"pre_score\"] * wecode_df[\"coefficient\"] / 100\n",
    "\n",
    "wecode_df[\"final_score\"] = (\n",
    "    wecode_df[\"is_final\"] * wecode_df[\"pre_score\"] * wecode_df[\"coefficient\"] / 100\n",
    ")\n",
    "\n",
    "wecode_df[\"is_final_solution\"] = wecode_df[\"is_final\"] * (\n",
    "    wecode_df[\"pre_score\"] == 10000\n",
    ")\n",
    "\n",
    "extracted_df = (\n",
    "    wecode_df.groupby(\"username\")\n",
    "    .agg(\n",
    "        tries=(\"username\", \"size\"),\n",
    "        correct_tries=(\"pre_score\", lambda x: sum(x == 10000)),\n",
    "        tried_probs=(\"is_final\", \"sum\"),\n",
    "        solved_probs=(\"is_final_solution\", \"sum\"),\n",
    "        total_score=(\"real_score\", \"sum\"),\n",
    "        total_final_score=(\n",
    "            \"final_score\",\n",
    "            \"sum\",\n",
    "        ),\n",
    "    )\n",
    "    .reset_index()\n",
    ")\n",
    "extracted_df.head(10)"
   ]
  },
  {
   "cell_type": "code",
   "execution_count": 22,
   "id": "8873fcf4",
   "metadata": {},
   "outputs": [
    {
     "data": {
      "text/html": [
       "<div>\n",
       "<style scoped>\n",
       "    .dataframe tbody tr th:only-of-type {\n",
       "        vertical-align: middle;\n",
       "    }\n",
       "\n",
       "    .dataframe tbody tr th {\n",
       "        vertical-align: top;\n",
       "    }\n",
       "\n",
       "    .dataframe thead th {\n",
       "        text-align: right;\n",
       "    }\n",
       "</style>\n",
       "<table border=\"1\" class=\"dataframe\">\n",
       "  <thead>\n",
       "    <tr style=\"text-align: right;\">\n",
       "      <th></th>\n",
       "      <th>username</th>\n",
       "      <th>tries</th>\n",
       "      <th>correct_tries</th>\n",
       "      <th>tried_probs</th>\n",
       "      <th>solved_probs</th>\n",
       "      <th>total_score</th>\n",
       "      <th>total_final_score</th>\n",
       "      <th>tries/prob</th>\n",
       "      <th>accuracy</th>\n",
       "      <th>score/prob</th>\n",
       "      <th>score/try</th>\n",
       "    </tr>\n",
       "  </thead>\n",
       "  <tbody>\n",
       "    <tr>\n",
       "      <th>0</th>\n",
       "      <td>00b6dd4fc7eb817e03708c532016ef30ce564a61</td>\n",
       "      <td>147</td>\n",
       "      <td>54</td>\n",
       "      <td>46</td>\n",
       "      <td>46</td>\n",
       "      <td>809110.0</td>\n",
       "      <td>460000.0</td>\n",
       "      <td>3.195652</td>\n",
       "      <td>0.367347</td>\n",
       "      <td>10000.000000</td>\n",
       "      <td>5504.149660</td>\n",
       "    </tr>\n",
       "    <tr>\n",
       "      <th>1</th>\n",
       "      <td>00bef8afee8f3c595d535c9c03c490cac1a4f021</td>\n",
       "      <td>259</td>\n",
       "      <td>85</td>\n",
       "      <td>78</td>\n",
       "      <td>72</td>\n",
       "      <td>1421535.0</td>\n",
       "      <td>752499.0</td>\n",
       "      <td>3.320513</td>\n",
       "      <td>0.328185</td>\n",
       "      <td>9647.423077</td>\n",
       "      <td>5488.552124</td>\n",
       "    </tr>\n",
       "    <tr>\n",
       "      <th>2</th>\n",
       "      <td>01122b3ef7e59b84189e65985305f575d6bdf83c</td>\n",
       "      <td>195</td>\n",
       "      <td>59</td>\n",
       "      <td>67</td>\n",
       "      <td>59</td>\n",
       "      <td>1164882.0</td>\n",
       "      <td>629214.0</td>\n",
       "      <td>2.910448</td>\n",
       "      <td>0.302564</td>\n",
       "      <td>9391.253731</td>\n",
       "      <td>5973.753846</td>\n",
       "    </tr>\n",
       "    <tr>\n",
       "      <th>3</th>\n",
       "      <td>0134f9f410c65ad0e8c2254a7e9288670e02a183</td>\n",
       "      <td>100</td>\n",
       "      <td>52</td>\n",
       "      <td>47</td>\n",
       "      <td>47</td>\n",
       "      <td>595276.0</td>\n",
       "      <td>470000.0</td>\n",
       "      <td>2.127660</td>\n",
       "      <td>0.520000</td>\n",
       "      <td>10000.000000</td>\n",
       "      <td>5952.760000</td>\n",
       "    </tr>\n",
       "    <tr>\n",
       "      <th>4</th>\n",
       "      <td>013de369c439ab0ead8aa7da64423aa395a8be39</td>\n",
       "      <td>107</td>\n",
       "      <td>59</td>\n",
       "      <td>66</td>\n",
       "      <td>58</td>\n",
       "      <td>686802.0</td>\n",
       "      <td>602519.0</td>\n",
       "      <td>1.621212</td>\n",
       "      <td>0.551402</td>\n",
       "      <td>9129.075758</td>\n",
       "      <td>6418.710280</td>\n",
       "    </tr>\n",
       "    <tr>\n",
       "      <th>5</th>\n",
       "      <td>014c59c6433fd764a0b08de6ffeb757eaf60aa73</td>\n",
       "      <td>199</td>\n",
       "      <td>79</td>\n",
       "      <td>90</td>\n",
       "      <td>79</td>\n",
       "      <td>1042765.0</td>\n",
       "      <td>796000.0</td>\n",
       "      <td>2.211111</td>\n",
       "      <td>0.396985</td>\n",
       "      <td>8844.444444</td>\n",
       "      <td>5240.025126</td>\n",
       "    </tr>\n",
       "    <tr>\n",
       "      <th>6</th>\n",
       "      <td>0155f91fe242fe55e1af631b0f0afbe9938b185c</td>\n",
       "      <td>179</td>\n",
       "      <td>60</td>\n",
       "      <td>60</td>\n",
       "      <td>56</td>\n",
       "      <td>826531.0</td>\n",
       "      <td>562000.0</td>\n",
       "      <td>2.983333</td>\n",
       "      <td>0.335196</td>\n",
       "      <td>9366.666667</td>\n",
       "      <td>4617.491620</td>\n",
       "    </tr>\n",
       "    <tr>\n",
       "      <th>7</th>\n",
       "      <td>016f87a7bd87f233a8633fba8a1ca7ef5c3c63c1</td>\n",
       "      <td>364</td>\n",
       "      <td>75</td>\n",
       "      <td>77</td>\n",
       "      <td>68</td>\n",
       "      <td>1774884.0</td>\n",
       "      <td>712916.0</td>\n",
       "      <td>4.727273</td>\n",
       "      <td>0.206044</td>\n",
       "      <td>9258.649351</td>\n",
       "      <td>4876.054945</td>\n",
       "    </tr>\n",
       "    <tr>\n",
       "      <th>8</th>\n",
       "      <td>017ec1bbad0d598e5a86ac3bd595b870b6456e61</td>\n",
       "      <td>218</td>\n",
       "      <td>86</td>\n",
       "      <td>91</td>\n",
       "      <td>85</td>\n",
       "      <td>1380711.0</td>\n",
       "      <td>881142.0</td>\n",
       "      <td>2.395604</td>\n",
       "      <td>0.394495</td>\n",
       "      <td>9682.879121</td>\n",
       "      <td>6333.536697</td>\n",
       "    </tr>\n",
       "    <tr>\n",
       "      <th>9</th>\n",
       "      <td>01ad03ec301749c033155fc17e657cc767d447c8</td>\n",
       "      <td>271</td>\n",
       "      <td>76</td>\n",
       "      <td>74</td>\n",
       "      <td>68</td>\n",
       "      <td>1404394.0</td>\n",
       "      <td>698146.0</td>\n",
       "      <td>3.662162</td>\n",
       "      <td>0.280443</td>\n",
       "      <td>9434.405405</td>\n",
       "      <td>5182.265683</td>\n",
       "    </tr>\n",
       "  </tbody>\n",
       "</table>\n",
       "</div>"
      ],
      "text/plain": [
       "                                   username  tries  correct_tries  \\\n",
       "0  00b6dd4fc7eb817e03708c532016ef30ce564a61    147             54   \n",
       "1  00bef8afee8f3c595d535c9c03c490cac1a4f021    259             85   \n",
       "2  01122b3ef7e59b84189e65985305f575d6bdf83c    195             59   \n",
       "3  0134f9f410c65ad0e8c2254a7e9288670e02a183    100             52   \n",
       "4  013de369c439ab0ead8aa7da64423aa395a8be39    107             59   \n",
       "5  014c59c6433fd764a0b08de6ffeb757eaf60aa73    199             79   \n",
       "6  0155f91fe242fe55e1af631b0f0afbe9938b185c    179             60   \n",
       "7  016f87a7bd87f233a8633fba8a1ca7ef5c3c63c1    364             75   \n",
       "8  017ec1bbad0d598e5a86ac3bd595b870b6456e61    218             86   \n",
       "9  01ad03ec301749c033155fc17e657cc767d447c8    271             76   \n",
       "\n",
       "   tried_probs  solved_probs  total_score  total_final_score  tries/prob  \\\n",
       "0           46            46     809110.0           460000.0    3.195652   \n",
       "1           78            72    1421535.0           752499.0    3.320513   \n",
       "2           67            59    1164882.0           629214.0    2.910448   \n",
       "3           47            47     595276.0           470000.0    2.127660   \n",
       "4           66            58     686802.0           602519.0    1.621212   \n",
       "5           90            79    1042765.0           796000.0    2.211111   \n",
       "6           60            56     826531.0           562000.0    2.983333   \n",
       "7           77            68    1774884.0           712916.0    4.727273   \n",
       "8           91            85    1380711.0           881142.0    2.395604   \n",
       "9           74            68    1404394.0           698146.0    3.662162   \n",
       "\n",
       "   accuracy    score/prob    score/try  \n",
       "0  0.367347  10000.000000  5504.149660  \n",
       "1  0.328185   9647.423077  5488.552124  \n",
       "2  0.302564   9391.253731  5973.753846  \n",
       "3  0.520000  10000.000000  5952.760000  \n",
       "4  0.551402   9129.075758  6418.710280  \n",
       "5  0.396985   8844.444444  5240.025126  \n",
       "6  0.335196   9366.666667  4617.491620  \n",
       "7  0.206044   9258.649351  4876.054945  \n",
       "8  0.394495   9682.879121  6333.536697  \n",
       "9  0.280443   9434.405405  5182.265683  "
      ]
     },
     "execution_count": 22,
     "metadata": {},
     "output_type": "execute_result"
    }
   ],
   "source": [
    "extracted_df[\"tries/prob\"] = extracted_df[\"tries\"] / extracted_df[\"tried_probs\"]\n",
    "extracted_df[\"accuracy\"] = extracted_df[\"correct_tries\"] / extracted_df[\"tries\"]\n",
    "extracted_df[\"score/prob\"] = (\n",
    "    extracted_df[\"total_final_score\"] / extracted_df[\"tried_probs\"]\n",
    ")\n",
    "extracted_df[\"score/try\"] = extracted_df[\"total_score\"] / extracted_df[\"tries\"]\n",
    "\n",
    "extracted_df.head(10)"
   ]
  },
  {
   "cell_type": "markdown",
   "id": "443486ca",
   "metadata": {},
   "source": [
    "## 3. Phân tích dữ liệu"
   ]
  },
  {
   "cell_type": "markdown",
   "id": "f0581a00",
   "metadata": {},
   "source": [
    "### 3.1. Phân tích đơn biến"
   ]
  }
 ],
 "metadata": {
  "kernelspec": {
   "display_name": "Python 3",
   "language": "python",
   "name": "python3"
  },
  "language_info": {
   "codemirror_mode": {
    "name": "ipython",
    "version": 3
   },
   "file_extension": ".py",
   "mimetype": "text/x-python",
   "name": "python",
   "nbconvert_exporter": "python",
   "pygments_lexer": "ipython3",
   "version": "3.13.3"
  }
 },
 "nbformat": 4,
 "nbformat_minor": 5
}
